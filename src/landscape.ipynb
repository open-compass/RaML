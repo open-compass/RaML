{
 "cells": [
  {
   "cell_type": "markdown",
   "metadata": {},
   "source": [
    "# Code Demo For Visualizing of Landscape\n",
    "This file shows the basic implementation of how to visualize the landscape of LLMs conditioned on specific question w.r.t the answer"
   ]
  },
  {
   "cell_type": "code",
   "execution_count": 8,
   "metadata": {},
   "outputs": [],
   "source": [
    "import os\n",
    "from collections import defaultdict\n",
    "import random\n",
    "random.seed(42)\n",
    "\n",
    "from tqdm import tqdm\n",
    "from datasets import load_dataset\n",
    "from transformers import AutoModelForCausalLM, AutoTokenizer\n",
    "import torch\n",
    "\n",
    "import seaborn as sns\n",
    "import matplotlib.pyplot as plt\n",
    "import matplotlib as mpl\n",
    "import json\n",
    "import pandas as pd\n",
    "import numpy as np\n",
    "from matplotlib.lines import Line2D"
   ]
  },
  {
   "cell_type": "markdown",
   "metadata": {},
   "source": [
    "### Preparation"
   ]
  },
  {
   "cell_type": "markdown",
   "metadata": {},
   "source": [
    "load tokenizer"
   ]
  },
  {
   "cell_type": "code",
   "execution_count": 4,
   "metadata": {},
   "outputs": [],
   "source": [
    "tokenizer = AutoTokenizer.from_pretrained(\"Qwen/QwQ-32B\")"
   ]
  },
  {
   "cell_type": "markdown",
   "metadata": {},
   "source": [
    "load AIME24 data"
   ]
  },
  {
   "cell_type": "code",
   "execution_count": 5,
   "metadata": {},
   "outputs": [],
   "source": [
    "dataset = load_dataset(\"HuggingFaceH4/aime_2024\", split=\"train\")"
   ]
  },
  {
   "cell_type": "markdown",
   "metadata": {},
   "source": [
    "load model"
   ]
  },
  {
   "cell_type": "code",
   "execution_count": 6,
   "metadata": {},
   "outputs": [
    {
     "name": "stderr",
     "output_type": "stream",
     "text": [
      "Loading checkpoint shards: 100%|██████████| 14/14 [00:29<00:00,  2.12s/it]\n"
     ]
    },
    {
     "data": {
      "text/plain": [
       "Qwen2ForCausalLM(\n",
       "  (model): Qwen2Model(\n",
       "    (embed_tokens): Embedding(152064, 5120)\n",
       "    (layers): ModuleList(\n",
       "      (0-63): 64 x Qwen2DecoderLayer(\n",
       "        (self_attn): Qwen2Attention(\n",
       "          (q_proj): Linear(in_features=5120, out_features=5120, bias=True)\n",
       "          (k_proj): Linear(in_features=5120, out_features=1024, bias=True)\n",
       "          (v_proj): Linear(in_features=5120, out_features=1024, bias=True)\n",
       "          (o_proj): Linear(in_features=5120, out_features=5120, bias=False)\n",
       "        )\n",
       "        (mlp): Qwen2MLP(\n",
       "          (gate_proj): Linear(in_features=5120, out_features=27648, bias=False)\n",
       "          (up_proj): Linear(in_features=5120, out_features=27648, bias=False)\n",
       "          (down_proj): Linear(in_features=27648, out_features=5120, bias=False)\n",
       "          (act_fn): SiLU()\n",
       "        )\n",
       "        (input_layernorm): Qwen2RMSNorm((5120,), eps=1e-05)\n",
       "        (post_attention_layernorm): Qwen2RMSNorm((5120,), eps=1e-05)\n",
       "      )\n",
       "    )\n",
       "    (norm): Qwen2RMSNorm((5120,), eps=1e-05)\n",
       "    (rotary_emb): Qwen2RotaryEmbedding()\n",
       "  )\n",
       "  (lm_head): Linear(in_features=5120, out_features=152064, bias=False)\n",
       ")"
      ]
     },
     "execution_count": 6,
     "metadata": {},
     "output_type": "execute_result"
    }
   ],
   "source": [
    "model = AutoModelForCausalLM.from_pretrained(\n",
    "    \"Qwen/QwQ-32B\", \n",
    "    trust_remote_code=True, \n",
    "    torch_dtype=\"bfloat16\",\n",
    "    attn_implementation=\"flash_attention_2\", \n",
    "    device_map=\"auto\"\n",
    ")\n",
    "model.eval()"
   ]
  },
  {
   "cell_type": "markdown",
   "metadata": {},
   "source": [
    "## Generate Losslandscape\n",
    "please also refer to https://arxiv.org/abs/1712.09913"
   ]
  },
  {
   "cell_type": "markdown",
   "metadata": {},
   "source": [
    "### construct inputs of LLM"
   ]
  },
  {
   "cell_type": "code",
   "execution_count": 13,
   "metadata": {},
   "outputs": [],
   "source": [
    "prompt_template = \"{question}\\n\\nPlease reason step by step, and put your final answer within \\\\boxed{{}}\"\n",
    "messages = [\n",
    "    {\"role\": \"user\", \"content\": prompt_template.format(question=dataset[0][\"problem\"])}\n",
    "]\n",
    "\n",
    "instruction_tokens = tokenizer.encode(tokenizer.apply_chat_template(messages, tokenize=False, add_generation_prompt=False))\n",
    "answer_tokens = tokenizer.encode(dataset[0][\"answer\"])\n",
    "inputs = tokenizer.encode_plus(\n",
    "    tokenizer.apply_chat_template(messages, tokenize=False, add_generation_prompt=False) + \\\n",
    "        \"\\n\\n**Final Answer**\\n\\\\boxed{\" + dataset[0][\"answer\"], add_special_tokens=False, return_tensors=\"pt\")"
   ]
  },
  {
   "cell_type": "markdown",
   "metadata": {},
   "source": [
    "### Generate random vectors"
   ]
  },
  {
   "cell_type": "code",
   "execution_count": 9,
   "metadata": {},
   "outputs": [
    {
     "name": "stderr",
     "output_type": "stream",
     "text": [
      "771it [01:00, 12.80it/s]\n",
      "771it [01:05, 11.72it/s]\n"
     ]
    }
   ],
   "source": [
    "direction1, direction2 = {}, {}\n",
    "for n, p in tqdm(model.named_parameters()):\n",
    "    if n in [\"lm_head.weight\", \"model.embed_tokens.weight\"]:\n",
    "        continue\n",
    "    direction1[n] = torch.randn_like(p).cpu()\n",
    "    direction2[n] = torch.randn_like(p).cpu()\n",
    "\n",
    "for (n, p) in tqdm(model.named_parameters()):\n",
    "    if n in [\"lm_head.weight\", \"model.embed_tokens.weight\"]:\n",
    "        continue\n",
    "    norm_p = torch.linalg.norm(p.cpu().flatten())\n",
    "    direction1[n].div_(torch.linalg.norm(direction1[n].cpu().flatten()).to(direction1[n])).mul_(norm_p.to(direction1[n]))\n",
    "    direction2[n].div_(torch.linalg.norm(direction2[n].cpu().flatten()).to(direction2[n])).mul_(norm_p.to(direction2[n]))"
   ]
  },
  {
   "cell_type": "markdown",
   "metadata": {},
   "source": [
    "### Generate Landscape"
   ]
  },
  {
   "cell_type": "markdown",
   "metadata": {},
   "source": [
    "Initialize coordinates, a simple demo, you can increase density"
   ]
  },
  {
   "cell_type": "code",
   "execution_count": 15,
   "metadata": {},
   "outputs": [],
   "source": [
    "x = np.linspace(-1, 1, 10)\n",
    "y = np.linspace(-1, 1, 10)\n",
    "X, Y = np.meshgrid(x, y)\n",
    "Z = np.zeros_like(X)"
   ]
  },
  {
   "cell_type": "markdown",
   "metadata": {},
   "source": [
    "manipulate parameters to generate landscape"
   ]
  },
  {
   "cell_type": "code",
   "execution_count": 16,
   "metadata": {},
   "outputs": [
    {
     "name": "stderr",
     "output_type": "stream",
     "text": [
      "x progress: 100%|██████████| 10/10 [45:46<00:00, 274.67s/it]\n"
     ]
    }
   ],
   "source": [
    "for x_idx in tqdm(range(x.size), desc=\"x progress\"):\n",
    "    for y_idx in tqdm(range(y.size), desc=\"y progress\", leave=False):\n",
    "        for n, p in model.named_parameters():\n",
    "            if n in [\"lm_head.weight\", \"model.embed_tokens.weight\"]:\n",
    "                continue\n",
    "            p.data.add_(x[x_idx]*direction1[n].to(p) + y[y_idx]*direction2[n].to(p))\n",
    "        \n",
    "        outputs = model(**inputs, labels=inputs[\"input_ids\"])\n",
    "        logits = outputs.logits[:, :-1, :][0, -len(answer_tokens):, :]\n",
    "        scores = torch.softmax(logits, dim=-1)\n",
    "        loss = 0.0\n",
    "        for indice, idx in enumerate(answer_tokens):\n",
    "            loss += -torch.log(scores[indice, idx])\n",
    "        loss /= len(answer_tokens)\n",
    "        Z[x_idx, y_idx] = loss.item()\n",
    "        \n",
    "        for n, p in model.named_parameters():\n",
    "            if n in [\"lm_head.weight\", \"model.embed_tokens.weight\"]:\n",
    "                continue\n",
    "            p.data.sub_(x[x_idx]*direction1[n].to(p) + y[y_idx]*direction2[n].to(p))"
   ]
  },
  {
   "cell_type": "markdown",
   "metadata": {},
   "source": [
    "### Visualize Landscape"
   ]
  },
  {
   "cell_type": "code",
   "execution_count": 26,
   "metadata": {},
   "outputs": [
    {
     "data": {
      "image/png": "[encoded data removed]",
      "text/plain": [
       "<Figure size 800x400 with 1 Axes>"
      ]
     },
     "metadata": {},
     "output_type": "display_data"
    }
   ],
   "source": [
    "plt.rcParams['font.family'] = 'Maple Mono'\n",
    "plt.rcParams['font.weight'] = 'normal'\n",
    "\n",
    "sns.set_theme(style=\"whitegrid\")\n",
    "sns.set_context(\"talk\")\n",
    "\n",
    "fig = plt.figure(figsize=(8, 4))\n",
    "ax = fig.add_subplot(111, projection='3d')\n",
    "\n",
    "surf = ax.plot_surface(X, Y, Z, cmap='viridis', linewidth=0, antialiased=True, alpha=0.8) \n",
    "cset = ax.contourf(X, Y, Z, zdir='z', offset=np.min(Z), cmap='viridis', alpha=0.5) \n",
    "ax.view_init(elev=40, azim=30) \n",
    "ax.grid(False) \n",
    "ax.set_xticks([])\n",
    "ax.set_yticks([])\n",
    "ax.set_zticks([])\n",
    "plt.tight_layout() \n",
    "plt.show() "
   ]
  }
 ],
 "metadata": {
  "kernelspec": {
   "display_name": "reason-stability",
   "language": "python",
   "name": "python3"
  },
  "language_info": {
   "codemirror_mode": {
    "name": "ipython",
    "version": 3
   },
   "file_extension": ".py",
   "mimetype": "text/x-python",
   "name": "python",
   "nbconvert_exporter": "python",
   "pygments_lexer": "ipython3",
   "version": "3.11.11"
  }
 },
 "nbformat": 4,
 "nbformat_minor": 2
}

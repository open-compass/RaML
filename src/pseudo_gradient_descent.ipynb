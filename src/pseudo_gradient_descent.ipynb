{
 "cells": [
  {
   "cell_type": "markdown",
   "metadata": {},
   "source": [
    "# Code Demo For Analysis of Pseudo Gradient Descent\n",
    "This file shows the basic implementation of the following experiment:\n",
    "* visualize the pseudo gradient descent of both thinking and nothinking modes\n",
    "* analysis the role of reflection token or nothinking token delimiter"
   ]
  },
  {
   "cell_type": "code",
   "execution_count": 25,
   "metadata": {
    "metadata": {}
   },
   "outputs": [],
   "source": [
    "import os\n",
    "from collections import defaultdict\n",
    "import random\n",
    "random.seed(42)\n",
    "\n",
    "from tqdm import tqdm\n",
    "from datasets import load_dataset\n",
    "from transformers import AutoTokenizer\n",
    "from vllm import LLM, SamplingParams\n",
    "\n",
    "import seaborn as sns\n",
    "import matplotlib.pyplot as plt\n",
    "import matplotlib as mpl\n",
    "import json\n",
    "import pandas as pd\n",
    "import numpy as np\n",
    "from matplotlib.lines import Line2D"
   ]
  },
  {
   "cell_type": "markdown",
   "metadata": {},
   "source": [
    "### Preparation"
   ]
  },
  {
   "cell_type": "markdown",
   "metadata": {},
   "source": [
    "load tokenizer"
   ]
  },
  {
   "cell_type": "code",
   "execution_count": 2,
   "metadata": {
    "metadata": {}
   },
   "outputs": [],
   "source": [
    "tokenizer = AutoTokenizer.from_pretrained(\"Qwen/QwQ-32B\")"
   ]
  },
  {
   "cell_type": "markdown",
   "metadata": {},
   "source": [
    "load AIME24 data"
   ]
  },
  {
   "cell_type": "code",
   "execution_count": 3,
   "metadata": {
    "metadata": {}
   },
   "outputs": [],
   "source": [
    "dataset = load_dataset(\"HuggingFaceH4/aime_2024\", split=\"train\")"
   ]
  },
  {
   "cell_type": "markdown",
   "metadata": {},
   "source": [
    "load model"
   ]
  },
  {
   "cell_type": "code",
   "execution_count": null,
   "metadata": {
    "metadata": {}
   },
   "outputs": [],
   "source": [
    "model = LLM(\"Qwen/QwQ-32B\", tensor_parallel_size=2, gpu_memory_utilization=0.8)"
   ]
  },
  {
   "cell_type": "markdown",
   "metadata": {},
   "source": [
    "### Rollout Under Thinking/NoThinking Mode"
   ]
  },
  {
   "cell_type": "markdown",
   "metadata": {},
   "source": [
    "define verify function"
   ]
  },
  {
   "cell_type": "code",
   "execution_count": 5,
   "metadata": {
    "metadata": {}
   },
   "outputs": [],
   "source": [
    "def score(predictions, references):\n",
    "    try:\n",
    "        from latex2sympy2_extended import NormalizationConfig\n",
    "        from math_verify import (ExprExtractionConfig,\n",
    "                                    LatexExtractionConfig, parse, verify)\n",
    "    except ImportError:\n",
    "        raise ImportError('Failed to import required modules. Please '\n",
    "                            'install the necessary packages: '\n",
    "                            'pip install math_verify latex2sympy2_extended')\n",
    "\n",
    "    correct = 0\n",
    "    count = 0\n",
    "    details = []\n",
    "    for i, j in zip(predictions, references):\n",
    "        count += 1\n",
    "        j_with_env = f'${j}$'\n",
    "        gold_parsed = parse(\n",
    "            j_with_env,\n",
    "            extraction_mode='first_match',\n",
    "            extraction_config=[\n",
    "                LatexExtractionConfig(),\n",
    "                ExprExtractionConfig(),\n",
    "            ],\n",
    "        )\n",
    "\n",
    "        if len(gold_parsed) != 0:\n",
    "            # We require the answer to be provided in correct\n",
    "            # latex (no malformed operators)\n",
    "            answer_parsed = parse(\n",
    "                i,\n",
    "                extraction_config=[\n",
    "                    LatexExtractionConfig(\n",
    "                        normalization_config=NormalizationConfig(\n",
    "                            nits=False,\n",
    "                            malformed_operators=False,\n",
    "                            basic_latex=True,\n",
    "                            equations=True,\n",
    "                            boxed='all',\n",
    "                            units=True,\n",
    "                        ),\n",
    "                        # Ensures that boxed is tried first\n",
    "                        boxed_match_priority=0,\n",
    "                        try_extract_without_anchor=False,\n",
    "                    )\n",
    "                ],\n",
    "                extraction_mode='first_match',\n",
    "            )\n",
    "\n",
    "            answer_correct = float(verify(answer_parsed, gold_parsed))\n",
    "            correct += answer_correct\n",
    "            detail = {\n",
    "                'pred': str(answer_parsed),\n",
    "                'answer': str(gold_parsed),\n",
    "                'correct': True if answer_correct else False,\n",
    "            }\n",
    "            details.append(detail)\n",
    "    return details\n"
   ]
  },
  {
   "cell_type": "markdown",
   "metadata": {},
   "source": [
    "construct prompts"
   ]
  },
  {
   "cell_type": "code",
   "execution_count": 6,
   "metadata": {
    "metadata": {}
   },
   "outputs": [],
   "source": [
    "prompt_template = \"{question}\\n\\nPlease reason step by step, and put your final answer within \\\\boxed{{}}\"\n",
    "inputs = []\n",
    "answers = []\n",
    "questions = []\n",
    "for example in dataset:\n",
    "    questions.append(example[\"problem\"])\n",
    "    messages = [\n",
    "        {\"role\": \"user\", \"content\": prompt_template.format(question=questions[-1])}\n",
    "    ]\n",
    "    inputs.append(tokenizer.apply_chat_template(messages, tokenize=False, add_generation_prompt=True, enable_thinking=True))\n",
    "    # nothinking: tokenizer.apply_chat_template(messages, tokenize=False, add_generation_prompt=True, enable_thinking=True) +  + \"Therefore, after all this, I believe the answer is\"\n",
    "    # or qwen3: tokenizer.apply_chat_template(messages, tokenize=False, add_generation_prompt=True, enable_thinking=False)\n",
    "    answers.append(example[\"answer\"])"
   ]
  },
  {
   "cell_type": "markdown",
   "metadata": {},
   "source": [
    "generate response, only one sample for simple demo"
   ]
  },
  {
   "cell_type": "code",
   "execution_count": 7,
   "metadata": {
    "metadata": {}
   },
   "outputs": [
    {
     "name": "stderr",
     "output_type": "stream",
     "text": [
      "Processed prompts:   0%|          | 0/16 [00:00<?, ?it/s, est. speed input: 0.00 toks/s, output: 0.00 toks/s]"
     ]
    },
    {
     "name": "stderr",
     "output_type": "stream",
     "text": [
      "Processed prompts: 100%|██████████| 16/16 [02:11<00:00,  8.24s/it, est. speed input: 19.17 toks/s, output: 405.62 toks/s]\n"
     ]
    }
   ],
   "source": [
    "sampling_params = SamplingParams(\n",
    "    max_tokens=32768,  \n",
    "    temperature=0.6,  \n",
    "    top_p=0.95,\n",
    "    min_p=0.0,\n",
    "    top_k=40,\n",
    "    n=16,\n",
    "    skip_special_tokens=False,\n",
    ")\n",
    "thinking_outputs = model.generate(inputs[:1], sampling_params, use_tqdm=True)"
   ]
  },
  {
   "cell_type": "markdown",
   "metadata": {},
   "source": [
    "parse and evaluate the trajectories"
   ]
  },
  {
   "cell_type": "code",
   "execution_count": 8,
   "metadata": {
    "metadata": {}
   },
   "outputs": [
    {
     "name": "stderr",
     "output_type": "stream",
     "text": [
      "[2025-05-25 17:41:36] WARNING math_normalization.py:466: equations is deprecated, as it handled by the parser now\n",
      "[2025-05-25 17:41:36] WARNING math_normalization.py:466: equations is deprecated, as it handled by the parser now\n",
      "[2025-05-25 17:41:36] WARNING math_normalization.py:466: equations is deprecated, as it handled by the parser now\n",
      "[2025-05-25 17:41:36] WARNING math_normalization.py:466: equations is deprecated, as it handled by the parser now\n",
      "[2025-05-25 17:41:36] WARNING math_normalization.py:466: equations is deprecated, as it handled by the parser now\n",
      "[2025-05-25 17:41:36] WARNING math_normalization.py:466: equations is deprecated, as it handled by the parser now\n",
      "[2025-05-25 17:41:36] WARNING math_normalization.py:466: equations is deprecated, as it handled by the parser now\n",
      "[2025-05-25 17:41:36] WARNING math_normalization.py:466: equations is deprecated, as it handled by the parser now\n",
      "[2025-05-25 17:41:36] WARNING math_normalization.py:466: equations is deprecated, as it handled by the parser now\n",
      "[2025-05-25 17:41:36] WARNING math_normalization.py:466: equations is deprecated, as it handled by the parser now\n",
      "[2025-05-25 17:41:36] WARNING math_normalization.py:466: equations is deprecated, as it handled by the parser now\n",
      "[2025-05-25 17:41:36] WARNING math_normalization.py:466: equations is deprecated, as it handled by the parser now\n",
      "[2025-05-25 17:41:36] WARNING math_normalization.py:466: equations is deprecated, as it handled by the parser now\n",
      "[2025-05-25 17:41:36] WARNING math_normalization.py:466: equations is deprecated, as it handled by the parser now\n",
      "[2025-05-25 17:41:36] WARNING math_normalization.py:466: equations is deprecated, as it handled by the parser now\n",
      "[2025-05-25 17:41:36] WARNING math_normalization.py:466: equations is deprecated, as it handled by the parser now\n"
     ]
    }
   ],
   "source": [
    "thinking_trajectories = []\n",
    "references = []\n",
    "for output, answer in zip(thinking_outputs, answers[:1]):\n",
    "    prompt = output.prompt\n",
    "    for r in output.outputs:\n",
    "        thinking_trajectories.append(r.text)\n",
    "        references.append(answer)\n",
    "thinking_scores = score(thinking_trajectories, references)"
   ]
  },
  {
   "cell_type": "markdown",
   "metadata": {},
   "source": [
    "compute plausibility of the answer at each position ($\\mathcal{\\hat{L}}$) of sampled correct reasoning trajectory"
   ]
  },
  {
   "cell_type": "code",
   "execution_count": 9,
   "metadata": {
    "metadata": {}
   },
   "outputs": [
    {
     "name": "stderr",
     "output_type": "stream",
     "text": [
      "Processed prompts: 100%|██████████| 3429/3429 [18:14<00:00,  3.13it/s, est. speed input: 5894.91 toks/s, output: 3.13 toks/s]\n"
     ]
    }
   ],
   "source": [
    "messages = [\n",
    "    {\"role\": \"user\", \"content\": prompt_template.format(question=questions[0])}\n",
    "]\n",
    "input_prefix = tokenizer.apply_chat_template(messages, tokenize=False, add_generation_prompt=True, enable_thinking=True)\n",
    "answer_tokens = tokenizer.encode(\"\\n\\n**Final Answer**\\n\\\\boxed{\" + answers[0], add_special_tokens=False)\n",
    "thinking_prompt2logprobs = {\n",
    "    \"question\": questions[0], \n",
    "    \"answer\": answers[0],\n",
    "    'logprobs': []\n",
    "}\n",
    "for trajectory in random.sample([trajectory for trajectory, score in zip(thinking_trajectories, thinking_scores) if score[\"correct\"]], k=1):\n",
    "    input_and_response = input_prefix + trajectory\n",
    "    tokens = tokenizer.encode(input_and_response, add_special_tokens=False)\n",
    "    think_token_ids = tokenizer.encode(\"<think>\", add_special_tokens=False)\n",
    "\n",
    "    def find_subsequence(tokens, sub):\n",
    "        for i in range(len(tokens) - len(sub) + 1):\n",
    "            if tokens[i:i+len(sub)] == sub:\n",
    "                return i\n",
    "        return -1\n",
    "    think_pos = find_subsequence(tokens, think_token_ids)\n",
    "    assert think_pos != -1\n",
    "\n",
    "    prefixes = []\n",
    "    for end in range(think_pos + 1, len(tokens) + 1):\n",
    "        prefixes.append(tokens[:end] + answer_tokens)\n",
    "\n",
    "    sampling_params = SamplingParams(\n",
    "        temperature=0, prompt_logprobs=1, max_tokens=1\n",
    "    )\n",
    "    outputs = model.generate([\n",
    "        {\"prompt_token_ids\": prefix} for prefix in prefixes\n",
    "    ], sampling_params, use_tqdm=True)\n",
    "    thinking_prompt2logprobs[\"logprobs\"].append([])\n",
    "    for i, (output, prefix) in enumerate(zip(outputs, prefixes)):\n",
    "        def extract_logprobs(logprobs, tokens):\n",
    "            probs = []\n",
    "            for item, tok_id in zip(logprobs, tokens):\n",
    "                probs.append(item[tok_id].logprob) if item is not None else probs.append(None)\n",
    "            return probs\n",
    "        thinking_prompt2logprobs[\"logprobs\"][-1].append({\n",
    "            \"prompt_ids\": prefix,\n",
    "            \"logprobs\": extract_logprobs(output.prompt_logprobs, prefix)\n",
    "        })"
   ]
  },
  {
   "cell_type": "markdown",
   "metadata": {},
   "source": [
    "### Visualization of Pseudo Gradient Descent"
   ]
  },
  {
   "cell_type": "markdown",
   "metadata": {},
   "source": [
    "extract $\\mathcal{\\hat{L}}$"
   ]
  },
  {
   "cell_type": "code",
   "execution_count": 10,
   "metadata": {
    "metadata": {}
   },
   "outputs": [],
   "source": [
    "thinking_L = {\n",
    "    \"question\": thinking_prompt2logprobs[\"question\"],\n",
    "    \"answer\": thinking_prompt2logprobs[\"answer\"],\n",
    "    \"logprobs\": []\n",
    "}\n",
    "answer_tokens = tokenizer.encode(thinking_prompt2logprobs[\"answer\"], add_special_tokens=False)\n",
    "extended_answer_tokens = tokenizer.encode(\"\\n\\n**Final Answer**\\n\\\\boxed{\" + thinking_prompt2logprobs[\"answer\"], add_special_tokens=False)\n",
    "for item in thinking_prompt2logprobs[\"logprobs\"][0]:\n",
    "    thinking_L[\"logprobs\"].append(-np.mean(item[\"logprobs\"][-len(answer_tokens):]))\n",
    "thinking_L[\"logprobs\"] = thinking_L[\"logprobs\"][:-len(extended_answer_tokens)]"
   ]
  },
  {
   "cell_type": "markdown",
   "metadata": {},
   "source": [
    "draw the curve of $\\mathcal{\\hat{L}}$"
   ]
  },
  {
   "cell_type": "code",
   "execution_count": 11,
   "metadata": {
    "metadata": {}
   },
   "outputs": [
    {
     "name": "stderr",
     "output_type": "stream",
     "text": [
      "[2025-05-25 18:10:38] INFO _mathtext.py:648: Substituting symbol L from STIXNonUnicode\n"
     ]
    },
    {
     "name": "stderr",
     "output_type": "stream",
     "text": [
      "[2025-05-25 18:10:38] INFO _mathtext.py:648: Substituting symbol L from STIXNonUnicode\n"
     ]
    },
    {
     "data": {
      "image/png": "[encoded data removed]",
      "text/plain": [
       "<Figure size 800x400 with 1 Axes>"
      ]
     },
     "metadata": {},
     "output_type": "display_data"
    }
   ],
   "source": [
    "plt.rcParams['font.family'] = 'Maple Mono'\n",
    "plt.rcParams['font.weight'] = 'normal'\n",
    "\n",
    "sns.set_theme(style=\"whitegrid\")\n",
    "sns.set_context(\"talk\")\n",
    "\n",
    "fig = plt.figure(figsize=(8, 4))\n",
    "\n",
    "linestyles = ['-', '--', '-.', ':']\n",
    "\n",
    "legend_handles = []\n",
    "legend_labels = []\n",
    "\n",
    "logprobs = thinking_L['logprobs']\n",
    "    \n",
    "colors = sns.color_palette(\"muted\")\n",
    "    \n",
    "raw_data = np.array(logprobs)\n",
    "raw_data = raw_data[raw_data != 0.0]\n",
    "\n",
    "indices = np.arange(0, len(raw_data))\n",
    "normalized_indices = indices / (len(indices) - 1) if len(indices) > 1 else indices\n",
    "\n",
    "color_idx = random.randint(0, 4)\n",
    "colors = sns.color_palette(\"muted\")\n",
    "\n",
    "plt.plot(normalized_indices, raw_data, \n",
    "        color=colors[color_idx], \n",
    "        alpha=0.2,\n",
    "        linewidth=0.8)\n",
    "\n",
    "alpha = 0.01  \n",
    "smooth_data = np.zeros_like(raw_data)\n",
    "smooth_data[0] = raw_data[0]\n",
    "\n",
    "for t in range(1, len(raw_data)):\n",
    "    smooth_data[t] = alpha * raw_data[t] + (1 - alpha) * smooth_data[t-1]\n",
    "    \n",
    "smooth_line = plt.plot(normalized_indices, smooth_data, \n",
    "        color=colors[color_idx], \n",
    "        linewidth=2)\n",
    "    \n",
    "plt.xlabel('') \n",
    "plt.title(\"Pseudo Gradient Descent\", fontdict={\"size\": 14, \"weight\": \"bold\"})\n",
    "plt.grid(True, linestyle='--', alpha=0.7)\n",
    "    \n",
    "plt.xlim(0, 1)\n",
    "    \n",
    "plt.ylabel('$\\mathcal{\\widehat{L}}$', fontdict={\"size\": 14, \"weight\": \"bold\"})\n",
    "plt.tick_params(axis='y', which='both', left=False, labelleft=False)\n",
    "plt.yticks([0,1,2,3,4,5,6],[0,1,2,3,4,5,6])\n",
    "\n",
    "\n",
    "plt.tight_layout(rect=[0, 0.05, 1, 0.95])\n",
    "plt.show()\n"
   ]
  },
  {
   "cell_type": "markdown",
   "metadata": {},
   "source": [
    "### Analysis of the Reflection Tokens in the Pseudo Gradient Descent"
   ]
  },
  {
   "cell_type": "code",
   "execution_count": 28,
   "metadata": {
    "metadata": {}
   },
   "outputs": [
    {
     "name": "stdout",
     "output_type": "stream",
     "text": [
      "Overall delta: 0.7638 ± 14.1350\n",
      "\n",
      "Reflection token delta:\n",
      "'Wait': 1.2891 ± 2.4015 (diff: 0.5253)\n",
      "  frequency: 10\n",
      "'Alternatively': 0.5805 ± 0.6678 (diff: -0.1834)\n",
      "  frequency: 8\n"
     ]
    },
    {
     "ename": "",
     "evalue": "",
     "output_type": "error",
     "traceback": [
      "\u001b[1;31m在当前单元格或上一个单元格中执行代码时 Kernel 崩溃。\n",
      "\u001b[1;31m请查看单元格中的代码，以确定故障的可能原因。\n",
      "\u001b[1;31m单击<a href='https://aka.ms/vscodeJupyterKernelCrash'>此处</a>了解详细信息。\n",
      "\u001b[1;31m有关更多详细信息，请查看 Jupyter <a href='command:jupyter.viewOutput'>log</a>。"
     ]
    }
   ],
   "source": [
    "reflection_pattern_words = [\n",
    "    r\"wait\",\n",
    "    r\"Wait\",\n",
    "    r\"retry\",\n",
    "    r\"Retry\",\n",
    "    r\"recheck\",\n",
    "    r\"Recheck\",\n",
    "    r\"however\",\n",
    "    r\"However\",\n",
    "    r\"alternatively\",\n",
    "    r\"Alternatively\",\n",
    "]\n",
    "reflection_token_ids = []\n",
    "for word in reflection_pattern_words:\n",
    "    token_ids = tokenizer.encode(word, add_special_tokens=False)\n",
    "    reflection_token_ids.append(token_ids)\n",
    "\n",
    "answer_tokens = tokenizer.encode(thinking_prompt2logprobs[\"answer\"], add_special_tokens=False)\n",
    "extended_answer_tokens = tokenizer.encode(\"\\n\\n**Final Answer**\\n\\\\boxed{\" + thinking_prompt2logprobs[\"answer\"], add_special_tokens=False)\n",
    "all_logprobs = []\n",
    "for item in thinking_prompt2logprobs[\"logprobs\"][0]:\n",
    "    if item[\"prompt_ids\"][:-len(extended_answer_tokens)][-1] == tokenizer.encode(\"</think>\", add_special_tokens=False)[0]:\n",
    "        break\n",
    "    all_logprobs.append((item[\"prompt_ids\"][:-len(extended_answer_tokens)][-1], -np.mean(item[\"logprobs\"][-len(answer_tokens):])))\n",
    "all_logprobs = all_logprobs[:-len(extended_answer_tokens)]\n",
    "    \n",
    "reflection_changes = defaultdict(list)\n",
    "all_token_changes = []\n",
    "\n",
    "token_changes = defaultdict(list)\n",
    "\n",
    "for i in range(1, len(all_logprobs)):\n",
    "    prev_token_id, prev_logprob = all_logprobs[i-1]\n",
    "    curr_token_id, curr_logprob = all_logprobs[i]\n",
    "    \n",
    "    if prev_logprob == 0:  \n",
    "        continue\n",
    "        \n",
    "    relative_change = abs(curr_logprob - prev_logprob) / prev_logprob\n",
    "    all_token_changes.append(relative_change)\n",
    "    \n",
    "    token_changes[curr_token_id].append(relative_change)\n",
    "        \n",
    "    for idx, reflection_ids in enumerate(reflection_token_ids):\n",
    "        if len(reflection_ids) > 0 and curr_token_id == reflection_ids[0]:\n",
    "            ii, jj = i, 0\n",
    "            while jj < len(reflection_ids) and ii < len(all_logprobs):\n",
    "                if all_logprobs[ii][0] != reflection_ids[jj]:\n",
    "                    break\n",
    "                ii += 1\n",
    "                jj += 1\n",
    "\n",
    "            if jj == len(reflection_ids):\n",
    "                word = reflection_pattern_words[idx]\n",
    "                reflection_changes[word].append(abs(all_logprobs[ii][1] - prev_logprob) / prev_logprob)\n",
    "    \n",
    "overall_avg_change = np.mean(all_token_changes)\n",
    "overall_std_change = np.std(all_token_changes)\n",
    "\n",
    "print(f\"Overall delta: {overall_avg_change:.4f} ± {overall_std_change:.4f}\")\n",
    "print(\"\\nReflection token delta:\")\n",
    "    \n",
    "for word, changes in reflection_changes.items():\n",
    "    if len(changes) > 0:\n",
    "        avg_change = np.mean(changes)\n",
    "        std_change = np.std(changes)\n",
    "        diff_from_overall = avg_change - overall_avg_change\n",
    "        print(f\"'{word}': {avg_change:.4f} ± {std_change:.4f} (diff: {diff_from_overall:.4f})\")\n",
    "        print(f\"  frequency: {len(changes)}\")\n",
    "    else:\n",
    "        print(f\"'{word}': Not found\")"
   ]
  }
 ],
 "metadata": {
  "kernelspec": {
   "display_name": "reason-stability",
   "language": "python",
   "name": "python3"
  },
  "language_info": {
   "codemirror_mode": {
    "name": "ipython",
    "version": 3
   },
   "file_extension": ".py",
   "mimetype": "text/x-python",
   "name": "python",
   "nbconvert_exporter": "python",
   "pygments_lexer": "ipython3",
   "version": "3.11.11"
  }
 },
 "nbformat": 4,
 "nbformat_minor": 2
}

{
 "cells": [
  {
   "cell_type": "markdown",
   "metadata": {},
   "source": [
    "# Codebase For Analysis of Pseudo Gradient Descent\n",
    "This file shows the basic implementation of the following experiment:\n",
    "* visualize the pseudo gradient descent of both thinking and nothinking modes\n",
    "* analysis the role of reflection token and no-thinking token delimiter"
   ]
  },
  {
   "cell_type": "code",
   "execution_count": 2,
   "metadata": {
    "metadata": {}
   },
   "outputs": [
    {
     "name": "stderr",
     "output_type": "stream",
     "text": [
      "/fs-computility/llmeval/liujunnan/software/miniconda3/envs/reason-stability/lib/python3.11/site-packages/tqdm/auto.py:21: TqdmWarning: IProgress not found. Please update jupyter and ipywidgets. See https://ipywidgets.readthedocs.io/en/stable/user_install.html\n",
      "  from .autonotebook import tqdm as notebook_tqdm\n"
     ]
    },
    {
     "name": "stdout",
     "output_type": "stream",
     "text": [
      "INFO 05-25 14:25:09 [__init__.py:256] Automatically detected platform cuda.\n"
     ]
    },
    {
     "name": "stderr",
     "output_type": "stream",
     "text": [
      "2025-05-25 14:25:09,697\tINFO util.py:154 -- Missing packages: ['ipywidgets']. Run `pip install -U ipywidgets`, then restart the notebook server for rich notebook output.\n"
     ]
    }
   ],
   "source": [
    "import os\n",
    "import random\n",
    "random.seed(42)\n",
    "from datasets import load_dataset\n",
    "from transformers import AutoTokenizer\n",
    "from vllm import LLM, SamplingParams\n",
    "\n",
    "import seaborn as sns\n",
    "import matplotlib.pyplot as plt\n",
    "import matplotlib as mpl\n",
    "import json\n",
    "import pandas as pd\n",
    "import numpy as np\n",
    "from matplotlib.lines import Line2D"
   ]
  },
  {
   "cell_type": "markdown",
   "metadata": {},
   "source": [
    "## Generate Trajectories Under Thinking/NoThinking Modes"
   ]
  },
  {
   "cell_type": "markdown",
   "metadata": {},
   "source": [
    "load tokenizer"
   ]
  },
  {
   "cell_type": "code",
   "execution_count": 3,
   "metadata": {
    "metadata": {}
   },
   "outputs": [],
   "source": [
    "tokenizer = AutoTokenizer.from_pretrained(\"Qwen/QwQ-32B\")"
   ]
  },
  {
   "cell_type": "markdown",
   "metadata": {},
   "source": [
    "load AIME24 data"
   ]
  },
  {
   "cell_type": "code",
   "execution_count": 4,
   "metadata": {
    "metadata": {}
   },
   "outputs": [],
   "source": [
    "dataset = load_dataset(\"HuggingFaceH4/aime_2024\", split=\"train\")"
   ]
  },
  {
   "cell_type": "markdown",
   "metadata": {},
   "source": [
    "load model"
   ]
  },
  {
   "cell_type": "code",
   "execution_count": 5,
   "metadata": {
    "metadata": {}
   },
   "outputs": [
    {
     "name": "stdout",
     "output_type": "stream",
     "text": [
      "INFO 05-25 14:26:15 [config.py:583] This model supports multiple tasks: {'generate', 'reward', 'classify', 'score', 'embed'}. Defaulting to 'generate'.\n",
      "INFO 05-25 14:26:15 [config.py:1515] Defaulting to use mp for distributed inference\n",
      "INFO 05-25 14:26:15 [config.py:1693] Chunked prefill is enabled with max_num_batched_tokens=8192.\n",
      "[2025-05-25 14:26:17,542] [INFO] [real_accelerator.py:222:get_accelerator] Setting ds_accelerator to cuda (auto detect)\n"
     ]
    },
    {
     "name": "stderr",
     "output_type": "stream",
     "text": [
      "[2025-05-25 14:26:17] INFO spawn.py:60: gcc -pthread -B /fs-computility/llmeval/liujunnan/software/miniconda3/envs/reason-stability/compiler_compat -DNDEBUG -fwrapv -O2 -Wall -fPIC -O2 -isystem /fs-computility/llmeval/liujunnan/software/miniconda3/envs/reason-stability/include -fPIC -O2 -isystem /fs-computility/llmeval/liujunnan/software/miniconda3/envs/reason-stability/include -fPIC -c /tmp/tmprr104zvy/test.c -o /tmp/tmprr104zvy/test.o\n",
      "[2025-05-25 14:26:17] INFO spawn.py:60: gcc -pthread -B /fs-computility/llmeval/liujunnan/software/miniconda3/envs/reason-stability/compiler_compat /tmp/tmprr104zvy/test.o -laio -o /tmp/tmprr104zvy/a.out\n",
      "/fs-computility/llmeval/liujunnan/software/miniconda3/envs/reason-stability/compiler_compat/ld: cannot find -laio: No such file or directory\n",
      "collect2: error: ld returned 1 exit status\n",
      "[2025-05-25 14:26:17] INFO spawn.py:60: gcc -pthread -B /fs-computility/llmeval/liujunnan/software/miniconda3/envs/reason-stability/compiler_compat -DNDEBUG -fwrapv -O2 -Wall -fPIC -O2 -isystem /fs-computility/llmeval/liujunnan/software/miniconda3/envs/reason-stability/include -fPIC -O2 -isystem /fs-computility/llmeval/liujunnan/software/miniconda3/envs/reason-stability/include -fPIC -c /tmp/tmptqmhn9vj/test.c -o /tmp/tmptqmhn9vj/test.o\n",
      "[2025-05-25 14:26:17] INFO spawn.py:60: gcc -pthread -B /fs-computility/llmeval/liujunnan/software/miniconda3/envs/reason-stability/compiler_compat /tmp/tmptqmhn9vj/test.o -L/usr/local/cuda -L/usr/local/cuda/lib64 -lcufile -o /tmp/tmptqmhn9vj/a.out\n",
      "/fs-computility/llmeval/liujunnan/software/miniconda3/envs/reason-stability/compiler_compat/ld: warning: libstdc++.so.6, needed by /usr/local/cuda/lib64/libcufile.so, not found (try using -rpath or -rpath-link)\n",
      "/fs-computility/llmeval/liujunnan/software/miniconda3/envs/reason-stability/compiler_compat/ld: warning: libm.so.6, needed by /usr/local/cuda/lib64/libcufile.so, not found (try using -rpath or -rpath-link)\n",
      "/fs-computility/llmeval/liujunnan/software/miniconda3/envs/reason-stability/compiler_compat/ld: /usr/local/cuda/lib64/libcufile.so: undefined reference to `std::runtime_error::~runtime_error()@GLIBCXX_3.4'\n",
      "/fs-computility/llmeval/liujunnan/software/miniconda3/envs/reason-stability/compiler_compat/ld: /usr/local/cuda/lib64/libcufile.so: undefined reference to `__gxx_personality_v0@CXXABI_1.3'\n",
      "/fs-computility/llmeval/liujunnan/software/miniconda3/envs/reason-stability/compiler_compat/ld: /usr/local/cuda/lib64/libcufile.so: undefined reference to `std::ostream::tellp()@GLIBCXX_3.4'\n",
      "/fs-computility/llmeval/liujunnan/software/miniconda3/envs/reason-stability/compiler_compat/ld: /usr/local/cuda/lib64/libcufile.so: undefined reference to `std::chrono::_V2::steady_clock::now()@GLIBCXX_3.4.19'\n",
      "/fs-computility/llmeval/liujunnan/software/miniconda3/envs/reason-stability/compiler_compat/ld: /usr/local/cuda/lib64/libcufile.so: undefined reference to `std::string::_M_replace_aux(unsigned long, unsigned long, unsigned long, char)@GLIBCXX_3.4'\n",
      "/fs-computility/llmeval/liujunnan/software/miniconda3/envs/reason-stability/compiler_compat/ld: /usr/local/cuda/lib64/libcufile.so: undefined reference to `dlopen'\n",
      "/fs-computility/llmeval/liujunnan/software/miniconda3/envs/reason-stability/compiler_compat/ld: /usr/local/cuda/lib64/libcufile.so: undefined reference to `typeinfo for bool@CXXABI_1.3'\n",
      "/fs-computility/llmeval/liujunnan/software/miniconda3/envs/reason-stability/compiler_compat/ld: /usr/local/cuda/lib64/libcufile.so: undefined reference to `std::__throw_logic_error(char const*)@GLIBCXX_3.4'\n",
      "/fs-computility/llmeval/liujunnan/software/miniconda3/envs/reason-stability/compiler_compat/ld: /usr/local/cuda/lib64/libcufile.so: undefined reference to `VTT for std::basic_ostringstream<char, std::char_traits<char>, std::allocator<char> >@GLIBCXX_3.4'\n",
      "/fs-computility/llmeval/liujunnan/software/miniconda3/envs/reason-stability/compiler_compat/ld: /usr/local/cuda/lib64/libcufile.so: undefined reference to `vtable for std::logic_error@GLIBCXX_3.4'\n",
      "/fs-computility/llmeval/liujunnan/software/miniconda3/envs/reason-stability/compiler_compat/ld: /usr/local/cuda/lib64/libcufile.so: undefined reference to `std::locale::~locale()@GLIBCXX_3.4'\n",
      "/fs-computility/llmeval/liujunnan/software/miniconda3/envs/reason-stability/compiler_compat/ld: /usr/local/cuda/lib64/libcufile.so: undefined reference to `std::basic_string<char, std::char_traits<char>, std::allocator<char> >::basic_string(std::string const&, unsigned long, unsigned long)@GLIBCXX_3.4'\n",
      "/fs-computility/llmeval/liujunnan/software/miniconda3/envs/reason-stability/compiler_compat/ld: /usr/local/cuda/lib64/libcufile.so: undefined reference to `__cxa_end_catch@CXXABI_1.3'\n",
      "/fs-computility/llmeval/liujunnan/software/miniconda3/envs/reason-stability/compiler_compat/ld: /usr/local/cuda/lib64/libcufile.so: undefined reference to `VTT for std::basic_ofstream<char, std::char_traits<char> >@GLIBCXX_3.4'\n",
      "/fs-computility/llmeval/liujunnan/software/miniconda3/envs/reason-stability/compiler_compat/ld: /usr/local/cuda/lib64/libcufile.so: undefined reference to `std::logic_error::~logic_error()@GLIBCXX_3.4'\n",
      "/fs-computility/llmeval/liujunnan/software/miniconda3/envs/reason-stability/compiler_compat/ld: /usr/local/cuda/lib64/libcufile.so: undefined reference to `vtable for __cxxabiv1::__si_class_type_info@CXXABI_1.3'\n",
      "/fs-computility/llmeval/liujunnan/software/miniconda3/envs/reason-stability/compiler_compat/ld: /usr/local/cuda/lib64/libcufile.so: undefined reference to `std::basic_ios<char, std::char_traits<char> >::_M_cache_locale(std::locale const&)@GLIBCXX_3.4'\n",
      "/fs-computility/llmeval/liujunnan/software/miniconda3/envs/reason-stability/compiler_compat/ld: /usr/local/cuda/lib64/libcufile.so: undefined reference to `VTT for std::basic_stringstream<char, std::char_traits<char>, std::allocator<char> >@GLIBCXX_3.4'\n",
      "/fs-computility/llmeval/liujunnan/software/miniconda3/envs/reason-stability/compiler_compat/ld: /usr/local/cuda/lib64/libcufile.so: undefined reference to `operator new[](unsigned long)@GLIBCXX_3.4'\n",
      "/fs-computility/llmeval/liujunnan/software/miniconda3/envs/reason-stability/compiler_compat/ld: /usr/local/cuda/lib64/libcufile.so: undefined reference to `std::string::_M_leak_hard()@GLIBCXX_3.4'\n",
      "/fs-computility/llmeval/liujunnan/software/miniconda3/envs/reason-stability/compiler_compat/ld: /usr/local/cuda/lib64/libcufile.so: undefined reference to `vtable for std::basic_ifstream<char, std::char_traits<char> >@GLIBCXX_3.4'\n",
      "/fs-computility/llmeval/liujunnan/software/miniconda3/envs/reason-stability/compiler_compat/ld: /usr/local/cuda/lib64/libcufile.so: undefined reference to `std::basic_streambuf<wchar_t, std::char_traits<wchar_t> >::basic_streambuf(std::basic_streambuf<wchar_t, std::char_traits<wchar_t> > const&)@GLIBCXX_3.4'\n",
      "/fs-computility/llmeval/liujunnan/software/miniconda3/envs/reason-stability/compiler_compat/ld: /usr/local/cuda/lib64/libcufile.so: undefined reference to `std::string::append(char const*, unsigned long)@GLIBCXX_3.4'\n",
      "/fs-computility/llmeval/liujunnan/software/miniconda3/envs/reason-stability/compiler_compat/ld: /usr/local/cuda/lib64/libcufile.so: undefined reference to `std::basic_string<char, std::char_traits<char>, std::allocator<char> >::basic_string(std::string const&)@GLIBCXX_3.4'\n",
      "/fs-computility/llmeval/liujunnan/software/miniconda3/envs/reason-stability/compiler_compat/ld: /usr/local/cuda/lib64/libcufile.so: undefined reference to `typeinfo for unsigned short@CXXABI_1.3'\n",
      "/fs-computility/llmeval/liujunnan/software/miniconda3/envs/reason-stability/compiler_compat/ld: /usr/local/cuda/lib64/libcufile.so: undefined reference to `std::string::resize(unsigned long, char)@GLIBCXX_3.4'\n",
      "/fs-computility/llmeval/liujunnan/software/miniconda3/envs/reason-stability/compiler_compat/ld: /usr/local/cuda/lib64/libcufile.so: undefined reference to `typeinfo for char const*@CXXABI_1.3'\n",
      "/fs-computility/llmeval/liujunnan/software/miniconda3/envs/reason-stability/compiler_compat/ld: /usr/local/cuda/lib64/libcufile.so: undefined reference to `std::ctype<char>::_M_widen_init() const@GLIBCXX_3.4.11'\n",
      "/fs-computility/llmeval/liujunnan/software/miniconda3/envs/reason-stability/compiler_compat/ld: /usr/local/cuda/lib64/libcufile.so: undefined reference to `std::__throw_invalid_argument(char const*)@GLIBCXX_3.4'\n",
      "/fs-computility/llmeval/liujunnan/software/miniconda3/envs/reason-stability/compiler_compat/ld: /usr/local/cuda/lib64/libcufile.so: undefined reference to `std::locale::operator=(std::locale const&)@GLIBCXX_3.4'\n",
      "/fs-computility/llmeval/liujunnan/software/miniconda3/envs/reason-stability/compiler_compat/ld: /usr/local/cuda/lib64/libcufile.so: undefined reference to `std::basic_ios<wchar_t, std::char_traits<wchar_t> >::_M_cache_locale(std::locale const&)@GLIBCXX_3.4'\n",
      "/fs-computility/llmeval/liujunnan/software/miniconda3/envs/reason-stability/compiler_compat/ld: /usr/local/cuda/lib64/libcufile.so: undefined reference to `std::_Rb_tree_decrement(std::_Rb_tree_node_base const*)@GLIBCXX_3.4'\n",
      "/fs-computility/llmeval/liujunnan/software/miniconda3/envs/reason-stability/compiler_compat/ld: /usr/local/cuda/lib64/libcufile.so: undefined reference to `__cxa_free_exception@CXXABI_1.3'\n",
      "/fs-computility/llmeval/liujunnan/software/miniconda3/envs/reason-stability/compiler_compat/ld: /usr/local/cuda/lib64/libcufile.so: undefined reference to `std::condition_variable::notify_one()@GLIBCXX_3.4.11'\n",
      "/fs-computility/llmeval/liujunnan/software/miniconda3/envs/reason-stability/compiler_compat/ld: /usr/local/cuda/lib64/libcufile.so: undefined reference to `std::ios_base::Init::~Init()@GLIBCXX_3.4'\n",
      "/fs-computility/llmeval/liujunnan/software/miniconda3/envs/reason-stability/compiler_compat/ld: /usr/local/cuda/lib64/libcufile.so: undefined reference to `std::basic_string<char, std::char_traits<char>, std::allocator<char> >::~basic_string()@GLIBCXX_3.4'\n",
      "/fs-computility/llmeval/liujunnan/software/miniconda3/envs/reason-stability/compiler_compat/ld: /usr/local/cuda/lib64/libcufile.so: undefined reference to `__cxa_pure_virtual@CXXABI_1.3'\n",
      "/fs-computility/llmeval/liujunnan/software/miniconda3/envs/reason-stability/compiler_compat/ld: /usr/local/cuda/lib64/libcufile.so: undefined reference to `std::ostream::flush()@GLIBCXX_3.4'\n",
      "/fs-computility/llmeval/liujunnan/software/miniconda3/envs/reason-stability/compiler_compat/ld: /usr/local/cuda/lib64/libcufile.so: undefined reference to `vtable for __cxxabiv1::__class_type_info@CXXABI_1.3'\n",
      "/fs-computility/llmeval/liujunnan/software/miniconda3/envs/reason-stability/compiler_compat/ld: /usr/local/cuda/lib64/libcufile.so: undefined reference to `__cxa_rethrow@CXXABI_1.3'\n",
      "/fs-computility/llmeval/liujunnan/software/miniconda3/envs/reason-stability/compiler_compat/ld: /usr/local/cuda/lib64/libcufile.so: undefined reference to `vtable for std::basic_stringbuf<char, std::char_traits<char>, std::allocator<char> >@GLIBCXX_3.4'\n",
      "/fs-computility/llmeval/liujunnan/software/miniconda3/envs/reason-stability/compiler_compat/ld: /usr/local/cuda/lib64/libcufile.so: undefined reference to `std::basic_fstream<char, std::char_traits<char> >::~basic_fstream()@GLIBCXX_3.4'\n",
      "/fs-computility/llmeval/liujunnan/software/miniconda3/envs/reason-stability/compiler_compat/ld: /usr/local/cuda/lib64/libcufile.so: undefined reference to `std::string::compare(char const*) const@GLIBCXX_3.4'\n",
      "/fs-computility/llmeval/liujunnan/software/miniconda3/envs/reason-stability/compiler_compat/ld: /usr/local/cuda/lib64/libcufile.so: undefined reference to `VTT for std::basic_ostringstream<wchar_t, std::char_traits<wchar_t>, std::allocator<wchar_t> >@GLIBCXX_3.4'\n",
      "/fs-computility/llmeval/liujunnan/software/miniconda3/envs/reason-stability/compiler_compat/ld: /usr/local/cuda/lib64/libcufile.so: undefined reference to `std::locale::locale()@GLIBCXX_3.4'\n",
      "/fs-computility/llmeval/liujunnan/software/miniconda3/envs/reason-stability/compiler_compat/ld: /usr/local/cuda/lib64/libcufile.so: undefined reference to `std::chrono::_V2::system_clock::now()@GLIBCXX_3.4.19'\n",
      "/fs-computility/llmeval/liujunnan/software/miniconda3/envs/reason-stability/compiler_compat/ld: /usr/local/cuda/lib64/libcufile.so: undefined reference to `VTT for std::basic_ifstream<char, std::char_traits<char> >@GLIBCXX_3.4'\n",
      "/fs-computility/llmeval/liujunnan/software/miniconda3/envs/reason-stability/compiler_compat/ld: /usr/local/cuda/lib64/libcufile.so: undefined reference to `std::_Hash_bytes(void const*, unsigned long, unsigned long)@CXXABI_1.3.5'\n",
      "/fs-computility/llmeval/liujunnan/software/miniconda3/envs/reason-stability/compiler_compat/ld: /usr/local/cuda/lib64/libcufile.so: undefined reference to `std::ostream& std::ostream::_M_insert<long long>(long long)@GLIBCXX_3.4.9'\n",
      "/fs-computility/llmeval/liujunnan/software/miniconda3/envs/reason-stability/compiler_compat/ld: /usr/local/cuda/lib64/libcufile.so: undefined reference to `typeinfo for char*@CXXABI_1.3'\n",
      "/fs-computility/llmeval/liujunnan/software/miniconda3/envs/reason-stability/compiler_compat/ld: /usr/local/cuda/lib64/libcufile.so: undefined reference to `std::__detail::_Prime_rehash_policy::_M_need_rehash(unsigned long, unsigned long, unsigned long) const@GLIBCXX_3.4.18'\n",
      "/fs-computility/llmeval/liujunnan/software/miniconda3/envs/reason-stability/compiler_compat/ld: /usr/local/cuda/lib64/libcufile.so: undefined reference to `vtable for std::out_of_range@GLIBCXX_3.4'\n",
      "/fs-computility/llmeval/liujunnan/software/miniconda3/envs/reason-stability/compiler_compat/ld: /usr/local/cuda/lib64/libcufile.so: undefined reference to `dlclose'\n",
      "/fs-computility/llmeval/liujunnan/software/miniconda3/envs/reason-stability/compiler_compat/ld: /usr/local/cuda/lib64/libcufile.so: undefined reference to `std::ostream& std::ostream::_M_insert<unsigned long>(unsigned long)@GLIBCXX_3.4.9'\n",
      "/fs-computility/llmeval/liujunnan/software/miniconda3/envs/reason-stability/compiler_compat/ld: /usr/local/cuda/lib64/libcufile.so: undefined reference to `std::_Rb_tree_increment(std::_Rb_tree_node_base const*)@GLIBCXX_3.4'\n",
      "/fs-computility/llmeval/liujunnan/software/miniconda3/envs/reason-stability/compiler_compat/ld: /usr/local/cuda/lib64/libcufile.so: undefined reference to `std::ios_base::~ios_base()@GLIBCXX_3.4'\n",
      "/fs-computility/llmeval/liujunnan/software/miniconda3/envs/reason-stability/compiler_compat/ld: /usr/local/cuda/lib64/libcufile.so: undefined reference to `std::range_error::~range_error()@GLIBCXX_3.4'\n",
      "/fs-computility/llmeval/liujunnan/software/miniconda3/envs/reason-stability/compiler_compat/ld: /usr/local/cuda/lib64/libcufile.so: undefined reference to `std::__basic_file<char>::~__basic_file()@GLIBCXX_3.4'\n",
      "/fs-computility/llmeval/liujunnan/software/miniconda3/envs/reason-stability/compiler_compat/ld: /usr/local/cuda/lib64/libcufile.so: undefined reference to `__cxa_guard_acquire@CXXABI_1.3'\n",
      "/fs-computility/llmeval/liujunnan/software/miniconda3/envs/reason-stability/compiler_compat/ld: /usr/local/cuda/lib64/libcufile.so: undefined reference to `std::ostream& std::ostream::_M_insert<bool>(bool)@GLIBCXX_3.4.9'\n",
      "/fs-computility/llmeval/liujunnan/software/miniconda3/envs/reason-stability/compiler_compat/ld: /usr/local/cuda/lib64/libcufile.so: undefined reference to `vtable for std::overflow_error@GLIBCXX_3.4'\n",
      "/fs-computility/llmeval/liujunnan/software/miniconda3/envs/reason-stability/compiler_compat/ld: /usr/local/cuda/lib64/libcufile.so: undefined reference to `VTT for std::basic_fstream<char, std::char_traits<char> >@GLIBCXX_3.4'\n",
      "/fs-computility/llmeval/liujunnan/software/miniconda3/envs/reason-stability/compiler_compat/ld: /usr/local/cuda/lib64/libcufile.so: undefined reference to `vtable for std::range_error@GLIBCXX_3.4'\n",
      "/fs-computility/llmeval/liujunnan/software/miniconda3/envs/reason-stability/compiler_compat/ld: /usr/local/cuda/lib64/libcufile.so: undefined reference to `vtable for std::basic_ios<char, std::char_traits<char> >@GLIBCXX_3.4'\n",
      "/fs-computility/llmeval/liujunnan/software/miniconda3/envs/reason-stability/compiler_compat/ld: /usr/local/cuda/lib64/libcufile.so: undefined reference to `vtable for std::basic_filebuf<char, std::char_traits<char> >@GLIBCXX_3.4'\n",
      "/fs-computility/llmeval/liujunnan/software/miniconda3/envs/reason-stability/compiler_compat/ld: /usr/local/cuda/lib64/libcufile.so: undefined reference to `operator delete[](void*)@GLIBCXX_3.4'\n",
      "/fs-computility/llmeval/liujunnan/software/miniconda3/envs/reason-stability/compiler_compat/ld: /usr/local/cuda/lib64/libcufile.so: undefined reference to `vtable for std::basic_stringstream<char, std::char_traits<char>, std::allocator<char> >@GLIBCXX_3.4'\n",
      "/fs-computility/llmeval/liujunnan/software/miniconda3/envs/reason-stability/compiler_compat/ld: /usr/local/cuda/lib64/libcufile.so: undefined reference to `std::basic_string<char, std::char_traits<char>, std::allocator<char> >::basic_string(unsigned long, char, std::allocator<char> const&)@GLIBCXX_3.4'\n",
      "/fs-computility/llmeval/liujunnan/software/miniconda3/envs/reason-stability/compiler_compat/ld: /usr/local/cuda/lib64/libcufile.so: undefined reference to `std::__detail::_List_node_base::_M_transfer(std::__detail::_List_node_base*, std::__detail::_List_node_base*)@GLIBCXX_3.4.15'\n",
      "/fs-computility/llmeval/liujunnan/software/miniconda3/envs/reason-stability/compiler_compat/ld: /usr/local/cuda/lib64/libcufile.so: undefined reference to `std::string::replace(unsigned long, unsigned long, char const*, unsigned long)@GLIBCXX_3.4'\n",
      "/fs-computility/llmeval/liujunnan/software/miniconda3/envs/reason-stability/compiler_compat/ld: /usr/local/cuda/lib64/libcufile.so: undefined reference to `typeinfo for std::exception@GLIBCXX_3.4'\n",
      "/fs-computility/llmeval/liujunnan/software/miniconda3/envs/reason-stability/compiler_compat/ld: /usr/local/cuda/lib64/libcufile.so: undefined reference to `std::basic_string<wchar_t, std::char_traits<wchar_t>, std::allocator<wchar_t> >::_Rep::_M_destroy(std::allocator<wchar_t> const&)@GLIBCXX_3.4'\n",
      "/fs-computility/llmeval/liujunnan/software/miniconda3/envs/reason-stability/compiler_compat/ld: /usr/local/cuda/lib64/libcufile.so: undefined reference to `std::istream& std::istream::_M_extract<double>(double&)@GLIBCXX_3.4.9'\n",
      "/fs-computility/llmeval/liujunnan/software/miniconda3/envs/reason-stability/compiler_compat/ld: /usr/local/cuda/lib64/libcufile.so: undefined reference to `std::basic_filebuf<char, std::char_traits<char> >::close()@GLIBCXX_3.4'\n",
      "/fs-computility/llmeval/liujunnan/software/miniconda3/envs/reason-stability/compiler_compat/ld: /usr/local/cuda/lib64/libcufile.so: undefined reference to `vtable for std::basic_fstream<char, std::char_traits<char> >@GLIBCXX_3.4'\n",
      "/fs-computility/llmeval/liujunnan/software/miniconda3/envs/reason-stability/compiler_compat/ld: /usr/local/cuda/lib64/libcufile.so: undefined reference to `std::basic_ifstream<char, std::char_traits<char> >::basic_ifstream(char const*, std::_Ios_Openmode)@GLIBCXX_3.4'\n",
      "/fs-computility/llmeval/liujunnan/software/miniconda3/envs/reason-stability/compiler_compat/ld: /usr/local/cuda/lib64/libcufile.so: undefined reference to `std::string::append(std::string const&)@GLIBCXX_3.4'\n",
      "/fs-computility/llmeval/liujunnan/software/miniconda3/envs/reason-stability/compiler_compat/ld: /usr/local/cuda/lib64/libcufile.so: undefined reference to `operator new(unsigned long)@GLIBCXX_3.4'\n",
      "/fs-computility/llmeval/liujunnan/software/miniconda3/envs/reason-stability/compiler_compat/ld: /usr/local/cuda/lib64/libcufile.so: undefined reference to `VTT for std::basic_istringstream<wchar_t, std::char_traits<wchar_t>, std::allocator<wchar_t> >@GLIBCXX_3.4'\n",
      "/fs-computility/llmeval/liujunnan/software/miniconda3/envs/reason-stability/compiler_compat/ld: /usr/local/cuda/lib64/libcufile.so: undefined reference to `typeinfo for unsigned int@CXXABI_1.3'\n",
      "/fs-computility/llmeval/liujunnan/software/miniconda3/envs/reason-stability/compiler_compat/ld: /usr/local/cuda/lib64/libcufile.so: undefined reference to `std::string::append(char const*)@GLIBCXX_3.4'\n",
      "/fs-computility/llmeval/liujunnan/software/miniconda3/envs/reason-stability/compiler_compat/ld: /usr/local/cuda/lib64/libcufile.so: undefined reference to `vtable for std::domain_error@GLIBCXX_3.4'\n",
      "/fs-computility/llmeval/liujunnan/software/miniconda3/envs/reason-stability/compiler_compat/ld: /usr/local/cuda/lib64/libcufile.so: undefined reference to `std::string::find(char, unsigned long) const@GLIBCXX_3.4'\n",
      "/fs-computility/llmeval/liujunnan/software/miniconda3/envs/reason-stability/compiler_compat/ld: /usr/local/cuda/lib64/libcufile.so: undefined reference to `std::ostream::put(char)@GLIBCXX_3.4'\n",
      "/fs-computility/llmeval/liujunnan/software/miniconda3/envs/reason-stability/compiler_compat/ld: /usr/local/cuda/lib64/libcufile.so: undefined reference to `typeinfo for int@CXXABI_1.3'\n",
      "/fs-computility/llmeval/liujunnan/software/miniconda3/envs/reason-stability/compiler_compat/ld: /usr/local/cuda/lib64/libcufile.so: undefined reference to `std::__throw_bad_alloc()@GLIBCXX_3.4'\n",
      "/fs-computility/llmeval/liujunnan/software/miniconda3/envs/reason-stability/compiler_compat/ld: /usr/local/cuda/lib64/libcufile.so: undefined reference to `__cxa_thread_atexit@CXXABI_1.3.7'\n",
      "/fs-computility/llmeval/liujunnan/software/miniconda3/envs/reason-stability/compiler_compat/ld: /usr/local/cuda/lib64/libcufile.so: undefined reference to `std::_Rb_tree_increment(std::_Rb_tree_node_base*)@GLIBCXX_3.4'\n",
      "/fs-computility/llmeval/liujunnan/software/miniconda3/envs/reason-stability/compiler_compat/ld: /usr/local/cuda/lib64/libcufile.so: undefined reference to `std::basic_ifstream<char, std::char_traits<char> >::~basic_ifstream()@GLIBCXX_3.4'\n",
      "/fs-computility/llmeval/liujunnan/software/miniconda3/envs/reason-stability/compiler_compat/ld: /usr/local/cuda/lib64/libcufile.so: undefined reference to `std::ios_base::Init::Init()@GLIBCXX_3.4'\n",
      "/fs-computility/llmeval/liujunnan/software/miniconda3/envs/reason-stability/compiler_compat/ld: /usr/local/cuda/lib64/libcufile.so: undefined reference to `std::condition_variable::condition_variable()@GLIBCXX_3.4.11'\n",
      "/fs-computility/llmeval/liujunnan/software/miniconda3/envs/reason-stability/compiler_compat/ld: /usr/local/cuda/lib64/libcufile.so: undefined reference to `std::basic_filebuf<char, std::char_traits<char> >::basic_filebuf()@GLIBCXX_3.4'\n",
      "/fs-computility/llmeval/liujunnan/software/miniconda3/envs/reason-stability/compiler_compat/ld: /usr/local/cuda/lib64/libcufile.so: undefined reference to `VTT for std::basic_istringstream<char, std::char_traits<char>, std::allocator<char> >@GLIBCXX_3.4'\n",
      "/fs-computility/llmeval/liujunnan/software/miniconda3/envs/reason-stability/compiler_compat/ld: /usr/local/cuda/lib64/libcufile.so: undefined reference to `std::domain_error::~domain_error()@GLIBCXX_3.4'\n",
      "/fs-computility/llmeval/liujunnan/software/miniconda3/envs/reason-stability/compiler_compat/ld: /usr/local/cuda/lib64/libcufile.so: undefined reference to `std::cerr@GLIBCXX_3.4'\n",
      "/fs-computility/llmeval/liujunnan/software/miniconda3/envs/reason-stability/compiler_compat/ld: /usr/local/cuda/lib64/libcufile.so: undefined reference to `std::string::find(char const*, unsigned long, unsigned long) const@GLIBCXX_3.4'\n",
      "/fs-computility/llmeval/liujunnan/software/miniconda3/envs/reason-stability/compiler_compat/ld: /usr/local/cuda/lib64/libcufile.so: undefined reference to `vtable for std::basic_istringstream<char, std::char_traits<char>, std::allocator<char> >@GLIBCXX_3.4'\n",
      "/fs-computility/llmeval/liujunnan/software/miniconda3/envs/reason-stability/compiler_compat/ld: /usr/local/cuda/lib64/libcufile.so: undefined reference to `std::basic_string<char, std::char_traits<char>, std::allocator<char> >::basic_string(std::allocator<char> const&)@GLIBCXX_3.4'\n",
      "/fs-computility/llmeval/liujunnan/software/miniconda3/envs/reason-stability/compiler_compat/ld: /usr/local/cuda/lib64/libcufile.so: undefined reference to `std::basic_stringbuf<char, std::char_traits<char>, std::allocator<char> >::str() const@GLIBCXX_3.4'\n",
      "/fs-computility/llmeval/liujunnan/software/miniconda3/envs/reason-stability/compiler_compat/ld: /usr/local/cuda/lib64/libcufile.so: undefined reference to `vtable for std::invalid_argument@GLIBCXX_3.4'\n",
      "/fs-computility/llmeval/liujunnan/software/miniconda3/envs/reason-stability/compiler_compat/ld: /usr/local/cuda/lib64/libcufile.so: undefined reference to `typeinfo for void*@CXXABI_1.3'\n",
      "/fs-computility/llmeval/liujunnan/software/miniconda3/envs/reason-stability/compiler_compat/ld: /usr/local/cuda/lib64/libcufile.so: undefined reference to `std::string::assign(std::string const&)@GLIBCXX_3.4'\n",
      "/fs-computility/llmeval/liujunnan/software/miniconda3/envs/reason-stability/compiler_compat/ld: /usr/local/cuda/lib64/libcufile.so: undefined reference to `std::basic_ostringstream<char, std::char_traits<char>, std::allocator<char> >::~basic_ostringstream()@GLIBCXX_3.4'\n",
      "/fs-computility/llmeval/liujunnan/software/miniconda3/envs/reason-stability/compiler_compat/ld: /usr/local/cuda/lib64/libcufile.so: undefined reference to `std::_Rb_tree_rebalance_for_erase(std::_Rb_tree_node_base*, std::_Rb_tree_node_base&)@GLIBCXX_3.4'\n",
      "/fs-computility/llmeval/liujunnan/software/miniconda3/envs/reason-stability/compiler_compat/ld: /usr/local/cuda/lib64/libcufile.so: undefined reference to `typeinfo for unsigned long@CXXABI_1.3'\n",
      "/fs-computility/llmeval/liujunnan/software/miniconda3/envs/reason-stability/compiler_compat/ld: /usr/local/cuda/lib64/libcufile.so: undefined reference to `std::__detail::_List_node_base::_M_hook(std::__detail::_List_node_base*)@GLIBCXX_3.4.15'\n",
      "/fs-computility/llmeval/liujunnan/software/miniconda3/envs/reason-stability/compiler_compat/ld: /usr/local/cuda/lib64/libcufile.so: undefined reference to `std::__detail::_List_node_base::_M_unhook()@GLIBCXX_3.4.15'\n",
      "/fs-computility/llmeval/liujunnan/software/miniconda3/envs/reason-stability/compiler_compat/ld: /usr/local/cuda/lib64/libcufile.so: undefined reference to `vtable for std::basic_ostringstream<wchar_t, std::char_traits<wchar_t>, std::allocator<wchar_t> >@GLIBCXX_3.4'\n",
      "/fs-computility/llmeval/liujunnan/software/miniconda3/envs/reason-stability/compiler_compat/ld: /usr/local/cuda/lib64/libcufile.so: undefined reference to `std::basic_stringbuf<char, std::char_traits<char>, std::allocator<char> >::_M_sync(char*, unsigned long, unsigned long)@GLIBCXX_3.4'\n",
      "/fs-computility/llmeval/liujunnan/software/miniconda3/envs/reason-stability/compiler_compat/ld: /usr/local/cuda/lib64/libcufile.so: undefined reference to `std::basic_iostream<char, std::char_traits<char> >::~basic_iostream()@GLIBCXX_3.4'\n",
      "/fs-computility/llmeval/liujunnan/software/miniconda3/envs/reason-stability/compiler_compat/ld: /usr/local/cuda/lib64/libcufile.so: undefined reference to `std::locale::locale(std::locale const&)@GLIBCXX_3.4'\n",
      "/fs-computility/llmeval/liujunnan/software/miniconda3/envs/reason-stability/compiler_compat/ld: /usr/local/cuda/lib64/libcufile.so: undefined reference to `vtable for std::basic_istringstream<wchar_t, std::char_traits<wchar_t>, std::allocator<wchar_t> >@GLIBCXX_3.4'\n",
      "/fs-computility/llmeval/liujunnan/software/miniconda3/envs/reason-stability/compiler_compat/ld: /usr/local/cuda/lib64/libcufile.so: undefined reference to `log2f@GLIBC_2.2.5'\n",
      "/fs-computility/llmeval/liujunnan/software/miniconda3/envs/reason-stability/compiler_compat/ld: /usr/local/cuda/lib64/libcufile.so: undefined reference to `std::ostream::operator<<(std::basic_streambuf<char, std::char_traits<char> >*)@GLIBCXX_3.4'\n",
      "/fs-computility/llmeval/liujunnan/software/miniconda3/envs/reason-stability/compiler_compat/ld: /usr/local/cuda/lib64/libcufile.so: undefined reference to `vtable for std::basic_streambuf<wchar_t, std::char_traits<wchar_t> >@GLIBCXX_3.4'\n",
      "/fs-computility/llmeval/liujunnan/software/miniconda3/envs/reason-stability/compiler_compat/ld: /usr/local/cuda/lib64/libcufile.so: undefined reference to `std::exception::~exception()@GLIBCXX_3.4'\n",
      "/fs-computility/llmeval/liujunnan/software/miniconda3/envs/reason-stability/compiler_compat/ld: /usr/local/cuda/lib64/libcufile.so: undefined reference to `std::string::_Rep::_S_create(unsigned long, unsigned long, std::allocator<char> const&)@GLIBCXX_3.4'\n",
      "/fs-computility/llmeval/liujunnan/software/miniconda3/envs/reason-stability/compiler_compat/ld: /usr/local/cuda/lib64/libcufile.so: undefined reference to `std::__basic_file<char>::is_open() const@GLIBCXX_3.4'\n",
      "/fs-computility/llmeval/liujunnan/software/miniconda3/envs/reason-stability/compiler_compat/ld: /usr/local/cuda/lib64/libcufile.so: undefined reference to `dlerror'\n",
      "/fs-computility/llmeval/liujunnan/software/miniconda3/envs/reason-stability/compiler_compat/ld: /usr/local/cuda/lib64/libcufile.so: undefined reference to `std::basic_istringstream<char, std::char_traits<char>, std::allocator<char> >::~basic_istringstream()@GLIBCXX_3.4'\n",
      "/fs-computility/llmeval/liujunnan/software/miniconda3/envs/reason-stability/compiler_compat/ld: /usr/local/cuda/lib64/libcufile.so: undefined reference to `std::string::swap(std::string&)@GLIBCXX_3.4'\n",
      "/fs-computility/llmeval/liujunnan/software/miniconda3/envs/reason-stability/compiler_compat/ld: /usr/local/cuda/lib64/libcufile.so: undefined reference to `typeinfo for unsigned long*@CXXABI_1.3'\n",
      "/fs-computility/llmeval/liujunnan/software/miniconda3/envs/reason-stability/compiler_compat/ld: /usr/local/cuda/lib64/libcufile.so: undefined reference to `vtable for std::basic_ostringstream<char, std::char_traits<char>, std::allocator<char> >@GLIBCXX_3.4'\n",
      "/fs-computility/llmeval/liujunnan/software/miniconda3/envs/reason-stability/compiler_compat/ld: /usr/local/cuda/lib64/libcufile.so: undefined reference to `std::basic_streambuf<char, std::char_traits<char> >::basic_streambuf(std::basic_streambuf<char, std::char_traits<char> > const&)@GLIBCXX_3.4'\n",
      "/fs-computility/llmeval/liujunnan/software/miniconda3/envs/reason-stability/compiler_compat/ld: /usr/local/cuda/lib64/libcufile.so: undefined reference to `std::basic_ios<char, std::char_traits<char> >::init(std::basic_streambuf<char, std::char_traits<char> >*)@GLIBCXX_3.4'\n",
      "/fs-computility/llmeval/liujunnan/software/miniconda3/envs/reason-stability/compiler_compat/ld: /usr/local/cuda/lib64/libcufile.so: undefined reference to `dlsym'\n",
      "/fs-computility/llmeval/liujunnan/software/miniconda3/envs/reason-stability/compiler_compat/ld: /usr/local/cuda/lib64/libcufile.so: undefined reference to `std::__throw_bad_cast()@GLIBCXX_3.4'\n",
      "/fs-computility/llmeval/liujunnan/software/miniconda3/envs/reason-stability/compiler_compat/ld: /usr/local/cuda/lib64/libcufile.so: undefined reference to `std::basic_ios<char, std::char_traits<char> >::clear(std::_Ios_Iostate)@GLIBCXX_3.4'\n",
      "/fs-computility/llmeval/liujunnan/software/miniconda3/envs/reason-stability/compiler_compat/ld: /usr/local/cuda/lib64/libcufile.so: undefined reference to `std::basic_streambuf<wchar_t, std::char_traits<wchar_t> >::operator=(std::basic_streambuf<wchar_t, std::char_traits<wchar_t> > const&)@GLIBCXX_3.4'\n",
      "/fs-computility/llmeval/liujunnan/software/miniconda3/envs/reason-stability/compiler_compat/ld: /usr/local/cuda/lib64/libcufile.so: undefined reference to `operator delete(void*)@GLIBCXX_3.4'\n",
      "/fs-computility/llmeval/liujunnan/software/miniconda3/envs/reason-stability/compiler_compat/ld: /usr/local/cuda/lib64/libcufile.so: undefined reference to `std::ostream::operator<<(int)@GLIBCXX_3.4'\n",
      "/fs-computility/llmeval/liujunnan/software/miniconda3/envs/reason-stability/compiler_compat/ld: /usr/local/cuda/lib64/libcufile.so: undefined reference to `std::string::_Rep::_S_empty_rep_storage@GLIBCXX_3.4'\n",
      "/fs-computility/llmeval/liujunnan/software/miniconda3/envs/reason-stability/compiler_compat/ld: /usr/local/cuda/lib64/libcufile.so: undefined reference to `std::string::_Rep::_M_destroy(std::allocator<char> const&)@GLIBCXX_3.4'\n",
      "/fs-computility/llmeval/liujunnan/software/miniconda3/envs/reason-stability/compiler_compat/ld: /usr/local/cuda/lib64/libcufile.so: undefined reference to `std::basic_iostream<wchar_t, std::char_traits<wchar_t> >::~basic_iostream()@GLIBCXX_3.4'\n",
      "/fs-computility/llmeval/liujunnan/software/miniconda3/envs/reason-stability/compiler_compat/ld: /usr/local/cuda/lib64/libcufile.so: undefined reference to `vtable for std::runtime_error@GLIBCXX_3.4'\n",
      "/fs-computility/llmeval/liujunnan/software/miniconda3/envs/reason-stability/compiler_compat/ld: /usr/local/cuda/lib64/libcufile.so: undefined reference to `vtable for std::basic_ofstream<char, std::char_traits<char> >@GLIBCXX_3.4'\n",
      "/fs-computility/llmeval/liujunnan/software/miniconda3/envs/reason-stability/compiler_compat/ld: /usr/local/cuda/lib64/libcufile.so: undefined reference to `std::_Rb_tree_insert_and_rebalance(bool, std::_Rb_tree_node_base*, std::_Rb_tree_node_base*, std::_Rb_tree_node_base&)@GLIBCXX_3.4'\n",
      "/fs-computility/llmeval/liujunnan/software/miniconda3/envs/reason-stability/compiler_compat/ld: /usr/local/cuda/lib64/libcufile.so: undefined reference to `std::basic_stringstream<char, std::char_traits<char>, std::allocator<char> >::~basic_stringstream()@GLIBCXX_3.4'\n",
      "/fs-computility/llmeval/liujunnan/software/miniconda3/envs/reason-stability/compiler_compat/ld: /usr/local/cuda/lib64/libcufile.so: undefined reference to `VTT for std::basic_stringstream<wchar_t, std::char_traits<wchar_t>, std::allocator<wchar_t> >@GLIBCXX_3.4'\n",
      "/fs-computility/llmeval/liujunnan/software/miniconda3/envs/reason-stability/compiler_compat/ld: /usr/local/cuda/lib64/libcufile.so: undefined reference to `std::ostream& std::ostream::_M_insert<long>(long)@GLIBCXX_3.4.9'\n",
      "/fs-computility/llmeval/liujunnan/software/miniconda3/envs/reason-stability/compiler_compat/ld: /usr/local/cuda/lib64/libcufile.so: undefined reference to `std::istream::get()@GLIBCXX_3.4'\n",
      "/fs-computility/llmeval/liujunnan/software/miniconda3/envs/reason-stability/compiler_compat/ld: /usr/local/cuda/lib64/libcufile.so: undefined reference to `typeinfo for unsigned long long@CXXABI_1.3'\n",
      "/fs-computility/llmeval/liujunnan/software/miniconda3/envs/reason-stability/compiler_compat/ld: /usr/local/cuda/lib64/libcufile.so: undefined reference to `std::basic_ostream<char, std::char_traits<char> >& std::operator<< <std::char_traits<char> >(std::basic_ostream<char, std::char_traits<char> >&, char const*)@GLIBCXX_3.4'\n",
      "/fs-computility/llmeval/liujunnan/software/miniconda3/envs/reason-stability/compiler_compat/ld: /usr/local/cuda/lib64/libcufile.so: undefined reference to `std::out_of_range::~out_of_range()@GLIBCXX_3.4'\n",
      "/fs-computility/llmeval/liujunnan/software/miniconda3/envs/reason-stability/compiler_compat/ld: /usr/local/cuda/lib64/libcufile.so: undefined reference to `std::length_error::~length_error()@GLIBCXX_3.4'\n",
      "/fs-computility/llmeval/liujunnan/software/miniconda3/envs/reason-stability/compiler_compat/ld: /usr/local/cuda/lib64/libcufile.so: undefined reference to `std::basic_ostream<char, std::char_traits<char> >& std::__ostream_insert<char, std::char_traits<char> >(std::basic_ostream<char, std::char_traits<char> >&, char const*, long)@GLIBCXX_3.4.9'\n",
      "/fs-computility/llmeval/liujunnan/software/miniconda3/envs/reason-stability/compiler_compat/ld: /usr/local/cuda/lib64/libcufile.so: undefined reference to `std::invalid_argument::~invalid_argument()@GLIBCXX_3.4'\n",
      "/fs-computility/llmeval/liujunnan/software/miniconda3/envs/reason-stability/compiler_compat/ld: /usr/local/cuda/lib64/libcufile.so: undefined reference to `std::basic_string<wchar_t, std::char_traits<wchar_t>, std::allocator<wchar_t> >::swap(std::basic_string<wchar_t, std::char_traits<wchar_t>, std::allocator<wchar_t> >&)@GLIBCXX_3.4'\n",
      "/fs-computility/llmeval/liujunnan/software/miniconda3/envs/reason-stability/compiler_compat/ld: /usr/local/cuda/lib64/libcufile.so: undefined reference to `std::cout@GLIBCXX_3.4'\n",
      "/fs-computility/llmeval/liujunnan/software/miniconda3/envs/reason-stability/compiler_compat/ld: /usr/local/cuda/lib64/libcufile.so: undefined reference to `std::ostream& std::ostream::_M_insert<unsigned long long>(unsigned long long)@GLIBCXX_3.4.9'\n",
      "/fs-computility/llmeval/liujunnan/software/miniconda3/envs/reason-stability/compiler_compat/ld: /usr/local/cuda/lib64/libcufile.so: undefined reference to `typeinfo for int*@CXXABI_1.3'\n",
      "/fs-computility/llmeval/liujunnan/software/miniconda3/envs/reason-stability/compiler_compat/ld: /usr/local/cuda/lib64/libcufile.so: undefined reference to `std::ostream& std::ostream::_M_insert<void const*>(void const*)@GLIBCXX_3.4.9'\n",
      "/fs-computility/llmeval/liujunnan/software/miniconda3/envs/reason-stability/compiler_compat/ld: /usr/local/cuda/lib64/libcufile.so: undefined reference to `vtable for std::underflow_error@GLIBCXX_3.4'\n",
      "/fs-computility/llmeval/liujunnan/software/miniconda3/envs/reason-stability/compiler_compat/ld: /usr/local/cuda/lib64/libcufile.so: undefined reference to `vtable for std::basic_streambuf<char, std::char_traits<char> >@GLIBCXX_3.4'\n",
      "/fs-computility/llmeval/liujunnan/software/miniconda3/envs/reason-stability/compiler_compat/ld: /usr/local/cuda/lib64/libcufile.so: undefined reference to `typeinfo for std::out_of_range@GLIBCXX_3.4'\n",
      "/fs-computility/llmeval/liujunnan/software/miniconda3/envs/reason-stability/compiler_compat/ld: /usr/local/cuda/lib64/libcufile.so: undefined reference to `__cxa_allocate_exception@CXXABI_1.3'\n",
      "/fs-computility/llmeval/liujunnan/software/miniconda3/envs/reason-stability/compiler_compat/ld: /usr/local/cuda/lib64/libcufile.so: undefined reference to `vtable for std::basic_ios<wchar_t, std::char_traits<wchar_t> >@GLIBCXX_3.4'\n",
      "/fs-computility/llmeval/liujunnan/software/miniconda3/envs/reason-stability/compiler_compat/ld: /usr/local/cuda/lib64/libcufile.so: undefined reference to `typeinfo for void const*@CXXABI_1.3'\n",
      "/fs-computility/llmeval/liujunnan/software/miniconda3/envs/reason-stability/compiler_compat/ld: /usr/local/cuda/lib64/libcufile.so: undefined reference to `std::basic_ios<wchar_t, std::char_traits<wchar_t> >::init(std::basic_streambuf<wchar_t, std::char_traits<wchar_t> >*)@GLIBCXX_3.4'\n",
      "/fs-computility/llmeval/liujunnan/software/miniconda3/envs/reason-stability/compiler_compat/ld: /usr/local/cuda/lib64/libcufile.so: undefined reference to `std::string::reserve(unsigned long)@GLIBCXX_3.4'\n",
      "/fs-computility/llmeval/liujunnan/software/miniconda3/envs/reason-stability/compiler_compat/ld: /usr/local/cuda/lib64/libcufile.so: undefined reference to `__cxa_begin_catch@CXXABI_1.3'\n",
      "/fs-computility/llmeval/liujunnan/software/miniconda3/envs/reason-stability/compiler_compat/ld: /usr/local/cuda/lib64/libcufile.so: undefined reference to `typeinfo for long@CXXABI_1.3'\n",
      "/fs-computility/llmeval/liujunnan/software/miniconda3/envs/reason-stability/compiler_compat/ld: /usr/local/cuda/lib64/libcufile.so: undefined reference to `std::basic_string<wchar_t, std::char_traits<wchar_t>, std::allocator<wchar_t> >::_Rep::_S_empty_rep_storage@GLIBCXX_3.4'\n",
      "/fs-computility/llmeval/liujunnan/software/miniconda3/envs/reason-stability/compiler_compat/ld: /usr/local/cuda/lib64/libcufile.so: undefined reference to `std::string::_M_leak()@GLIBCXX_3.4'\n",
      "/fs-computility/llmeval/liujunnan/software/miniconda3/envs/reason-stability/compiler_compat/ld: /usr/local/cuda/lib64/libcufile.so: undefined reference to `std::basic_filebuf<char, std::char_traits<char> >::open(char const*, std::_Ios_Openmode)@GLIBCXX_3.4'\n",
      "/fs-computility/llmeval/liujunnan/software/miniconda3/envs/reason-stability/compiler_compat/ld: /usr/local/cuda/lib64/libcufile.so: undefined reference to `std::basic_stringbuf<wchar_t, std::char_traits<wchar_t>, std::allocator<wchar_t> >::_M_sync(wchar_t*, unsigned long, unsigned long)@GLIBCXX_3.4'\n",
      "/fs-computility/llmeval/liujunnan/software/miniconda3/envs/reason-stability/compiler_compat/ld: /usr/local/cuda/lib64/libcufile.so: undefined reference to `std::istream::getline(char*, long, char)@GLIBCXX_3.4'\n",
      "/fs-computility/llmeval/liujunnan/software/miniconda3/envs/reason-stability/compiler_compat/ld: /usr/local/cuda/lib64/libcufile.so: undefined reference to `std::basic_istream<char, std::char_traits<char> >& std::getline<char, std::char_traits<char>, std::allocator<char> >(std::basic_istream<char, std::char_traits<char> >&, std::basic_string<char, std::char_traits<char>, std::allocator<char> >&, char)@GLIBCXX_3.4'\n",
      "/fs-computility/llmeval/liujunnan/software/miniconda3/envs/reason-stability/compiler_compat/ld: /usr/local/cuda/lib64/libcufile.so: undefined reference to `vtable for std::basic_stringstream<wchar_t, std::char_traits<wchar_t>, std::allocator<wchar_t> >@GLIBCXX_3.4'\n",
      "/fs-computility/llmeval/liujunnan/software/miniconda3/envs/reason-stability/compiler_compat/ld: /usr/local/cuda/lib64/libcufile.so: undefined reference to `std::condition_variable::~condition_variable()@GLIBCXX_3.4.11'\n",
      "/fs-computility/llmeval/liujunnan/software/miniconda3/envs/reason-stability/compiler_compat/ld: /usr/local/cuda/lib64/libcufile.so: undefined reference to `vtable for std::basic_stringbuf<wchar_t, std::char_traits<wchar_t>, std::allocator<wchar_t> >@GLIBCXX_3.4'\n",
      "/fs-computility/llmeval/liujunnan/software/miniconda3/envs/reason-stability/compiler_compat/ld: /usr/local/cuda/lib64/libcufile.so: undefined reference to `std::string::insert(unsigned long, char const*, unsigned long)@GLIBCXX_3.4'\n",
      "/fs-computility/llmeval/liujunnan/software/miniconda3/envs/reason-stability/compiler_compat/ld: /usr/local/cuda/lib64/libcufile.so: undefined reference to `std::string::assign(char const*, unsigned long)@GLIBCXX_3.4'\n",
      "/fs-computility/llmeval/liujunnan/software/miniconda3/envs/reason-stability/compiler_compat/ld: /usr/local/cuda/lib64/libcufile.so: undefined reference to `typeinfo for unsigned char@CXXABI_1.3'\n",
      "/fs-computility/llmeval/liujunnan/software/miniconda3/envs/reason-stability/compiler_compat/ld: /usr/local/cuda/lib64/libcufile.so: undefined reference to `std::ios_base::ios_base()@GLIBCXX_3.4'\n",
      "/fs-computility/llmeval/liujunnan/software/miniconda3/envs/reason-stability/compiler_compat/ld: /usr/local/cuda/lib64/libcufile.so: undefined reference to `std::__throw_out_of_range(char const*)@GLIBCXX_3.4'\n",
      "/fs-computility/llmeval/liujunnan/software/miniconda3/envs/reason-stability/compiler_compat/ld: /usr/local/cuda/lib64/libcufile.so: undefined reference to `std::overflow_error::~overflow_error()@GLIBCXX_3.4'\n",
      "/fs-computility/llmeval/liujunnan/software/miniconda3/envs/reason-stability/compiler_compat/ld: /usr/local/cuda/lib64/libcufile.so: undefined reference to `std::__throw_length_error(char const*)@GLIBCXX_3.4'\n",
      "/fs-computility/llmeval/liujunnan/software/miniconda3/envs/reason-stability/compiler_compat/ld: /usr/local/cuda/lib64/libcufile.so: undefined reference to `std::__throw_system_error(int)@GLIBCXX_3.4.11'\n",
      "/fs-computility/llmeval/liujunnan/software/miniconda3/envs/reason-stability/compiler_compat/ld: /usr/local/cuda/lib64/libcufile.so: undefined reference to `std::basic_ofstream<char, std::char_traits<char> >::close()@GLIBCXX_3.4'\n",
      "/fs-computility/llmeval/liujunnan/software/miniconda3/envs/reason-stability/compiler_compat/ld: /usr/local/cuda/lib64/libcufile.so: undefined reference to `std::ostream& std::ostream::_M_insert<double>(double)@GLIBCXX_3.4.9'\n",
      "/fs-computility/llmeval/liujunnan/software/miniconda3/envs/reason-stability/compiler_compat/ld: /usr/local/cuda/lib64/libcufile.so: undefined reference to `std::basic_streambuf<char, std::char_traits<char> >::operator=(std::basic_streambuf<char, std::char_traits<char> > const&)@GLIBCXX_3.4'\n",
      "/fs-computility/llmeval/liujunnan/software/miniconda3/envs/reason-stability/compiler_compat/ld: /usr/local/cuda/lib64/libcufile.so: undefined reference to `typeinfo for long long@CXXABI_1.3'\n",
      "/fs-computility/llmeval/liujunnan/software/miniconda3/envs/reason-stability/compiler_compat/ld: /usr/local/cuda/lib64/libcufile.so: undefined reference to `std::basic_string<char, std::char_traits<char>, std::allocator<char> >::basic_string(char const*, unsigned long, std::allocator<char> const&)@GLIBCXX_3.4'\n",
      "/fs-computility/llmeval/liujunnan/software/miniconda3/envs/reason-stability/compiler_compat/ld: /usr/local/cuda/lib64/libcufile.so: undefined reference to `std::basic_ifstream<char, std::char_traits<char> >::close()@GLIBCXX_3.4'\n",
      "/fs-computility/llmeval/liujunnan/software/miniconda3/envs/reason-stability/compiler_compat/ld: /usr/local/cuda/lib64/libcufile.so: undefined reference to `__cxa_guard_release@CXXABI_1.3'\n",
      "/fs-computility/llmeval/liujunnan/software/miniconda3/envs/reason-stability/compiler_compat/ld: /usr/local/cuda/lib64/libcufile.so: undefined reference to `__cxa_throw@CXXABI_1.3'\n",
      "/fs-computility/llmeval/liujunnan/software/miniconda3/envs/reason-stability/compiler_compat/ld: /usr/local/cuda/lib64/libcufile.so: undefined reference to `std::underflow_error::~underflow_error()@GLIBCXX_3.4'\n",
      "/fs-computility/llmeval/liujunnan/software/miniconda3/envs/reason-stability/compiler_compat/ld: /usr/local/cuda/lib64/libcufile.so: undefined reference to `std::_Rb_tree_decrement(std::_Rb_tree_node_base*)@GLIBCXX_3.4'\n",
      "/fs-computility/llmeval/liujunnan/software/miniconda3/envs/reason-stability/compiler_compat/ld: /usr/local/cuda/lib64/libcufile.so: undefined reference to `vtable for std::length_error@GLIBCXX_3.4'\n",
      "/fs-computility/llmeval/liujunnan/software/miniconda3/envs/reason-stability/compiler_compat/ld: /usr/local/cuda/lib64/libcufile.so: undefined reference to `std::basic_filebuf<char, std::char_traits<char> >::~basic_filebuf()@GLIBCXX_3.4'\n",
      "collect2: error: ld returned 1 exit status\n"
     ]
    },
    {
     "name": "stdout",
     "output_type": "stream",
     "text": [
      "WARNING 05-25 14:26:18 [utils.py:2148] CUDA was previously initialized. We must use the `spawn` multiprocessing start method. Setting VLLM_WORKER_MULTIPROC_METHOD to 'spawn'. See https://docs.vllm.ai/en/latest/getting_started/troubleshooting.html#python-multiprocessing for more information.\n",
      "INFO 05-25 14:26:23 [__init__.py:256] Automatically detected platform cuda.\n",
      "[2025-05-25 14:26:24,827] [INFO] [real_accelerator.py:222:get_accelerator] Setting ds_accelerator to cuda (auto detect)\n",
      "INFO 05-25 14:26:25 [core.py:53] Initializing a V1 LLM engine (v0.8.1) with config: model='Qwen/QwQ-32B', speculative_config=None, tokenizer='Qwen/QwQ-32B', skip_tokenizer_init=False, tokenizer_mode=auto, revision=None, override_neuron_config=None, tokenizer_revision=None, trust_remote_code=False, dtype=torch.bfloat16, max_seq_len=40960, download_dir=None, load_format=LoadFormat.AUTO, tensor_parallel_size=2, pipeline_parallel_size=1, disable_custom_all_reduce=False, quantization=None, enforce_eager=False, kv_cache_dtype=auto,  device_config=cuda, decoding_config=DecodingConfig(guided_decoding_backend='xgrammar', reasoning_backend=None), observability_config=ObservabilityConfig(show_hidden_metrics=False, otlp_traces_endpoint=None, collect_model_forward_time=False, collect_model_execute_time=False), seed=None, served_model_name=Qwen/QwQ-32B, num_scheduler_steps=1, multi_step_stream_outputs=True, enable_prefix_caching=True, chunked_prefill_enabled=True, use_async_output_proc=True, disable_mm_preprocessor_cache=False, mm_processor_kwargs=None, pooler_config=None, compilation_config={\"level\":3,\"custom_ops\":[\"none\"],\"splitting_ops\":[\"vllm.unified_attention\",\"vllm.unified_attention_with_output\"],\"use_inductor\":true,\"compile_sizes\":[],\"use_cudagraph\":true,\"cudagraph_num_of_warmups\":1,\"cudagraph_capture_sizes\":[512,504,496,488,480,472,464,456,448,440,432,424,416,408,400,392,384,376,368,360,352,344,336,328,320,312,304,296,288,280,272,264,256,248,240,232,224,216,208,200,192,184,176,168,160,152,144,136,128,120,112,104,96,88,80,72,64,56,48,40,32,24,16,8,4,2,1],\"max_capture_size\":512}\n",
      "WARNING 05-25 14:26:25 [multiproc_worker_utils.py:306] Reducing Torch parallelism from 64 threads to 1 to avoid unnecessary CPU contention. Set OMP_NUM_THREADS in the external environment to tune this value as needed.\n",
      "INFO 05-25 14:26:25 [shm_broadcast.py:258] vLLM message queue communication handle: Handle(local_reader_ranks=[0, 1], buffer_handle=(2, 10485760, 10, 'psm_e5bc09d0'), local_subscribe_addr='ipc:///tmp/cd78ecc0-cc83-4a5a-a099-d739e1eb05b1', remote_subscribe_addr=None, remote_addr_ipv6=False)\n",
      "INFO 05-25 14:26:29 [__init__.py:256] Automatically detected platform cuda.\n",
      "[2025-05-25 14:26:30,964] [INFO] [real_accelerator.py:222:get_accelerator] Setting ds_accelerator to cuda (auto detect)\n",
      "WARNING 05-25 14:26:31 [utils.py:2282] Methods determine_num_available_blocks,device_config,get_cache_block_size_bytes,initialize_cache not implemented in <vllm.v1.worker.gpu_worker.Worker object at 0x7ff5b210d050>\n",
      "\u001b[1;36m(VllmWorker rank=0 pid=2951363)\u001b[0;0m INFO 05-25 14:26:31 [shm_broadcast.py:258] vLLM message queue communication handle: Handle(local_reader_ranks=[0], buffer_handle=(1, 10485760, 10, 'psm_b5a78c40'), local_subscribe_addr='ipc:///tmp/28c79336-1768-4321-b845-06ddd93304c2', remote_subscribe_addr=None, remote_addr_ipv6=False)\n",
      "INFO 05-25 14:26:35 [__init__.py:256] Automatically detected platform cuda.\n",
      "[2025-05-25 14:26:37,388] [INFO] [real_accelerator.py:222:get_accelerator] Setting ds_accelerator to cuda (auto detect)\n",
      "WARNING 05-25 14:26:38 [utils.py:2282] Methods determine_num_available_blocks,device_config,get_cache_block_size_bytes,initialize_cache not implemented in <vllm.v1.worker.gpu_worker.Worker object at 0x7f33b2c2edd0>\n",
      "\u001b[1;36m(VllmWorker rank=1 pid=2951420)\u001b[0;0m INFO 05-25 14:26:38 [shm_broadcast.py:258] vLLM message queue communication handle: Handle(local_reader_ranks=[0], buffer_handle=(1, 10485760, 10, 'psm_67e35bf4'), local_subscribe_addr='ipc:///tmp/a856b617-26e9-4494-bc34-10ffc1332c0b', remote_subscribe_addr=None, remote_addr_ipv6=False)\n",
      "\u001b[1;36m(VllmWorker rank=1 pid=2951420)\u001b[0;0m \u001b[1;36m(VllmWorker rank=0 pid=2951363)\u001b[0;0m INFO 05-25 14:26:38 [utils.py:925] Found nccl from library libnccl.so.2\n",
      "INFO 05-25 14:26:38 [utils.py:925] Found nccl from library libnccl.so.2\n",
      "\u001b[1;36m(VllmWorker rank=1 pid=2951420)\u001b[0;0m INFO 05-25 14:26:38 [pynccl.py:69] vLLM is using nccl==2.21.5\n",
      "\u001b[1;36m(VllmWorker rank=0 pid=2951363)\u001b[0;0m INFO 05-25 14:26:38 [pynccl.py:69] vLLM is using nccl==2.21.5\n",
      "\u001b[1;36m(VllmWorker rank=0 pid=2951363)\u001b[0;0m INFO 05-25 14:26:39 [custom_all_reduce_utils.py:244] reading GPU P2P access cache from /root/.cache/vllm/gpu_p2p_access_cache_for_0,1.json\n",
      "\u001b[1;36m(VllmWorker rank=1 pid=2951420)\u001b[0;0m INFO 05-25 14:26:39 [custom_all_reduce_utils.py:244] reading GPU P2P access cache from /root/.cache/vllm/gpu_p2p_access_cache_for_0,1.json\n",
      "\u001b[1;36m(VllmWorker rank=0 pid=2951363)\u001b[0;0m INFO 05-25 14:26:39 [shm_broadcast.py:258] vLLM message queue communication handle: Handle(local_reader_ranks=[1], buffer_handle=(1, 4194304, 6, 'psm_aa05b922'), local_subscribe_addr='ipc:///tmp/a4524517-3122-4f90-83fb-20a406bfc6f4', remote_subscribe_addr=None, remote_addr_ipv6=False)\n",
      "\u001b[1;36m(VllmWorker rank=1 pid=2951420)\u001b[0;0m INFO 05-25 14:26:39 [parallel_state.py:967] rank 1 in world size 2 is assigned as DP rank 0, PP rank 0, TP rank 1\n",
      "\u001b[1;36m(VllmWorker rank=0 pid=2951363)\u001b[0;0m INFO 05-25 14:26:39 [parallel_state.py:967] rank 0 in world size 2 is assigned as DP rank 0, PP rank 0, TP rank 0\n",
      "\u001b[1;36m(VllmWorker rank=0 pid=2951363)\u001b[0;0m INFO 05-25 14:26:39 [cuda.py:215] Using Flash Attention backend on V1 engine.\n",
      "\u001b[1;36m(VllmWorker rank=1 pid=2951420)\u001b[0;0m INFO 05-25 14:26:39 [cuda.py:215] Using Flash Attention backend on V1 engine.\n",
      "\u001b[1;36m(VllmWorker rank=0 pid=2951363)\u001b[0;0m INFO 05-25 14:26:39 [gpu_model_runner.py:1164] Starting to load model Qwen/QwQ-32B...\n",
      "\u001b[1;36m(VllmWorker rank=1 pid=2951420)\u001b[0;0m INFO 05-25 14:26:39 [gpu_model_runner.py:1164] Starting to load model Qwen/QwQ-32B...\n",
      "\u001b[1;36m(VllmWorker rank=1 pid=2951420)\u001b[0;0m \u001b[1;36m(VllmWorker rank=0 pid=2951363)\u001b[0;0m WARNING 05-25 14:26:39 [topk_topp_sampler.py:63] FlashInfer is not available. Falling back to the PyTorch-native implementation of top-p & top-k sampling. For the best performance, please install FlashInfer.\n",
      "WARNING 05-25 14:26:39 [topk_topp_sampler.py:63] FlashInfer is not available. Falling back to the PyTorch-native implementation of top-p & top-k sampling. For the best performance, please install FlashInfer.\n",
      "\u001b[1;36m(VllmWorker rank=0 pid=2951363)\u001b[0;0m INFO 05-25 14:26:40 [weight_utils.py:257] Using model weights format ['*.safetensors']\n",
      "\u001b[1;36m(VllmWorker rank=1 pid=2951420)\u001b[0;0m INFO 05-25 14:26:40 [weight_utils.py:257] Using model weights format ['*.safetensors']\n"
     ]
    },
    {
     "name": "stderr",
     "output_type": "stream",
     "text": [
      "Loading safetensors checkpoint shards:   0% Completed | 0/14 [00:00<?, ?it/s]\n",
      "Loading safetensors checkpoint shards:   7% Completed | 1/14 [00:05<01:06,  5.10s/it]\n",
      "Loading safetensors checkpoint shards:  14% Completed | 2/14 [00:06<00:37,  3.09s/it]\n",
      "Loading safetensors checkpoint shards:  21% Completed | 3/14 [00:12<00:47,  4.28s/it]\n",
      "Loading safetensors checkpoint shards:  29% Completed | 4/14 [00:14<00:35,  3.57s/it]\n",
      "Loading safetensors checkpoint shards:  36% Completed | 5/14 [00:16<00:25,  2.87s/it]\n",
      "Loading safetensors checkpoint shards:  43% Completed | 6/14 [00:18<00:19,  2.46s/it]\n",
      "Loading safetensors checkpoint shards:  50% Completed | 7/14 [00:24<00:24,  3.55s/it]\n",
      "Loading safetensors checkpoint shards:  57% Completed | 8/14 [00:29<00:25,  4.28s/it]\n",
      "Loading safetensors checkpoint shards:  64% Completed | 9/14 [00:35<00:23,  4.67s/it]\n",
      "Loading safetensors checkpoint shards:  71% Completed | 10/14 [00:41<00:19,  4.99s/it]\n",
      "Loading safetensors checkpoint shards:  79% Completed | 11/14 [00:42<00:11,  3.92s/it]\n",
      "Loading safetensors checkpoint shards:  86% Completed | 12/14 [00:44<00:06,  3.22s/it]\n",
      "Loading safetensors checkpoint shards:  93% Completed | 13/14 [00:45<00:02,  2.77s/it]\n",
      "Loading safetensors checkpoint shards: 100% Completed | 14/14 [00:47<00:00,  2.46s/it]\n",
      "Loading safetensors checkpoint shards: 100% Completed | 14/14 [00:47<00:00,  3.41s/it]\n",
      "\u001b[1;36m(VllmWorker rank=0 pid=2951363)\u001b[0;0m \n"
     ]
    },
    {
     "name": "stdout",
     "output_type": "stream",
     "text": [
      "\u001b[1;36m(VllmWorker rank=0 pid=2951363)\u001b[0;0m INFO 05-25 14:27:28 [loader.py:429] Loading weights took 47.77 seconds\n",
      "\u001b[1;36m(VllmWorker rank=1 pid=2951420)\u001b[0;0m INFO 05-25 14:27:28 [loader.py:429] Loading weights took 47.25 seconds\n",
      "\u001b[1;36m(VllmWorker rank=0 pid=2951363)\u001b[0;0m INFO 05-25 14:27:28 [gpu_model_runner.py:1176] Model loading took 30.7117 GB and 49.383828 seconds\n",
      "\u001b[1;36m(VllmWorker rank=1 pid=2951420)\u001b[0;0m INFO 05-25 14:27:28 [gpu_model_runner.py:1176] Model loading took 30.7117 GB and 49.412442 seconds\n",
      "\u001b[1;36m(VllmWorker rank=0 pid=2951363)\u001b[0;0m INFO 05-25 14:27:43 [backends.py:409] Using cache directory: /root/.cache/vllm/torch_compile_cache/076e3cb1c8/rank_0_0 for vLLM's torch.compile\n",
      "\u001b[1;36m(VllmWorker rank=1 pid=2951420)\u001b[0;0m INFO 05-25 14:27:43 [backends.py:409] Using cache directory: /root/.cache/vllm/torch_compile_cache/076e3cb1c8/rank_1_0 for vLLM's torch.compile\n",
      "\u001b[1;36m(VllmWorker rank=0 pid=2951363)\u001b[0;0m INFO 05-25 14:27:43 [backends.py:419] Dynamo bytecode transform time: 14.84 s\n",
      "\u001b[1;36m(VllmWorker rank=1 pid=2951420)\u001b[0;0m INFO 05-25 14:27:43 [backends.py:419] Dynamo bytecode transform time: 14.84 s\n",
      "\u001b[1;36m(VllmWorker rank=0 pid=2951363)\u001b[0;0m INFO 05-25 14:27:44 [backends.py:115] Directly load the compiled graph for shape None from the cache\n",
      "\u001b[1;36m(VllmWorker rank=1 pid=2951420)\u001b[0;0m INFO 05-25 14:27:44 [backends.py:115] Directly load the compiled graph for shape None from the cache\n",
      "\u001b[1;36m(VllmWorker rank=0 pid=2951363)\u001b[0;0m INFO 05-25 14:27:57 [monitor.py:33] torch.compile takes 14.84 s in total\n",
      "\u001b[1;36m(VllmWorker rank=1 pid=2951420)\u001b[0;0m INFO 05-25 14:27:57 [monitor.py:33] torch.compile takes 14.84 s in total\n",
      "INFO 05-25 14:27:59 [kv_cache_utils.py:537] GPU KV cache size: 211,776 tokens\n",
      "INFO 05-25 14:27:59 [kv_cache_utils.py:540] Maximum concurrency for 40,960 tokens per request: 5.17x\n",
      "INFO 05-25 14:27:59 [kv_cache_utils.py:537] GPU KV cache size: 211,776 tokens\n",
      "INFO 05-25 14:27:59 [kv_cache_utils.py:540] Maximum concurrency for 40,960 tokens per request: 5.17x\n",
      "\u001b[1;36m(VllmWorker rank=0 pid=2951363)\u001b[0;0m INFO 05-25 14:28:28 [custom_all_reduce.py:229] Registering 8643 cuda graph addresses\n",
      "\u001b[1;36m(VllmWorker rank=1 pid=2951420)\u001b[0;0m INFO 05-25 14:28:31 [custom_all_reduce.py:229] Registering 8643 cuda graph addresses\n",
      "\u001b[1;36m(VllmWorker rank=1 pid=2951420)\u001b[0;0m INFO 05-25 14:28:31 [gpu_model_runner.py:1499] Graph capturing finished in 32 secs, took 3.56 GiB\n",
      "\u001b[1;36m(VllmWorker rank=0 pid=2951363)\u001b[0;0m INFO 05-25 14:28:31 [gpu_model_runner.py:1499] Graph capturing finished in 32 secs, took 3.56 GiB\n",
      "INFO 05-25 14:28:31 [core.py:138] init engine (profile, create kv cache, warmup model) took 62.72 seconds\n"
     ]
    }
   ],
   "source": [
    "model = LLM(\"Qwen/QwQ-32B\", tensor_parallel_size=2, gpu_memory_utilization=0.8)"
   ]
  },
  {
   "cell_type": "markdown",
   "metadata": {},
   "source": [
    "### Rollout Under Thinking Mode"
   ]
  },
  {
   "cell_type": "markdown",
   "metadata": {},
   "source": [
    "define verify function"
   ]
  },
  {
   "cell_type": "code",
   "execution_count": 6,
   "metadata": {
    "metadata": {}
   },
   "outputs": [],
   "source": [
    "def score(predictions, references):\n",
    "    try:\n",
    "        from latex2sympy2_extended import NormalizationConfig\n",
    "        from math_verify import (ExprExtractionConfig,\n",
    "                                    LatexExtractionConfig, parse, verify)\n",
    "    except ImportError:\n",
    "        raise ImportError('Failed to import required modules. Please '\n",
    "                            'install the necessary packages: '\n",
    "                            'pip install math_verify latex2sympy2_extended')\n",
    "\n",
    "    correct = 0\n",
    "    count = 0\n",
    "    details = []\n",
    "    for i, j in zip(predictions, references):\n",
    "        count += 1\n",
    "        j_with_env = f'${j}$'\n",
    "        gold_parsed = parse(\n",
    "            j_with_env,\n",
    "            extraction_mode='first_match',\n",
    "            extraction_config=[\n",
    "                LatexExtractionConfig(),\n",
    "                ExprExtractionConfig(),\n",
    "            ],\n",
    "        )\n",
    "\n",
    "        if len(gold_parsed) != 0:\n",
    "            # We require the answer to be provided in correct\n",
    "            # latex (no malformed operators)\n",
    "            answer_parsed = parse(\n",
    "                i,\n",
    "                extraction_config=[\n",
    "                    LatexExtractionConfig(\n",
    "                        normalization_config=NormalizationConfig(\n",
    "                            nits=False,\n",
    "                            malformed_operators=False,\n",
    "                            basic_latex=True,\n",
    "                            equations=True,\n",
    "                            boxed='all',\n",
    "                            units=True,\n",
    "                        ),\n",
    "                        # Ensures that boxed is tried first\n",
    "                        boxed_match_priority=0,\n",
    "                        try_extract_without_anchor=False,\n",
    "                    )\n",
    "                ],\n",
    "                extraction_mode='first_match',\n",
    "            )\n",
    "\n",
    "            answer_correct = float(verify(answer_parsed, gold_parsed))\n",
    "            correct += answer_correct\n",
    "            detail = {\n",
    "                'pred': str(answer_parsed),\n",
    "                'answer': str(gold_parsed),\n",
    "                'correct': True if answer_correct else False,\n",
    "            }\n",
    "            details.append(detail)\n",
    "    return details\n"
   ]
  },
  {
   "cell_type": "markdown",
   "metadata": {},
   "source": [
    "construct prompts"
   ]
  },
  {
   "cell_type": "code",
   "execution_count": 7,
   "metadata": {
    "metadata": {}
   },
   "outputs": [],
   "source": [
    "prompt_template = \"{question}\\n\\nPlease reason step by step, and put your final answer within \\\\boxed{{}}\"\n",
    "inputs = []\n",
    "answers = []\n",
    "questions = []\n",
    "for example in dataset:\n",
    "    questions.append(example[\"problem\"])\n",
    "    messages = [\n",
    "        {\"role\": \"user\", \"content\": prompt_template.format(question=questions[-1])}\n",
    "    ]\n",
    "    inputs.append(tokenizer.apply_chat_template(messages, tokenize=False, add_generation_prompt=True, enable_thinking=True))\n",
    "    answers.append(example[\"answer\"])"
   ]
  },
  {
   "cell_type": "markdown",
   "metadata": {},
   "source": [
    "generate response, only one sample for simple demo"
   ]
  },
  {
   "cell_type": "code",
   "execution_count": 8,
   "metadata": {
    "metadata": {}
   },
   "outputs": [
    {
     "name": "stderr",
     "output_type": "stream",
     "text": [
      "Processed prompts:   0%|          | 0/16 [00:00<?, ?it/s, est. speed input: 0.00 toks/s, output: 0.00 toks/s]"
     ]
    },
    {
     "name": "stderr",
     "output_type": "stream",
     "text": [
      "Processed prompts: 100%|██████████| 16/16 [02:12<00:00,  8.30s/it, est. speed input: 19.05 toks/s, output: 422.20 toks/s]\n"
     ]
    }
   ],
   "source": [
    "sampling_params = SamplingParams(\n",
    "    max_tokens=32768,  \n",
    "    temperature=0.6,  \n",
    "    top_p=0.95,\n",
    "    min_p=0.0,\n",
    "    top_k=40,\n",
    "    n=16,\n",
    "    skip_special_tokens=False,\n",
    ")\n",
    "outputs = model.generate(inputs[:1], sampling_params, use_tqdm=True)"
   ]
  },
  {
   "cell_type": "markdown",
   "metadata": {},
   "source": [
    "parse and evaluate the trajectories"
   ]
  },
  {
   "cell_type": "code",
   "execution_count": 9,
   "metadata": {
    "metadata": {}
   },
   "outputs": [
    {
     "name": "stderr",
     "output_type": "stream",
     "text": [
      "[2025-05-25 14:37:11] WARNING math_normalization.py:466: equations is deprecated, as it handled by the parser now\n",
      "[2025-05-25 14:37:11] WARNING math_normalization.py:466: equations is deprecated, as it handled by the parser now\n",
      "[2025-05-25 14:37:11] WARNING math_normalization.py:466: equations is deprecated, as it handled by the parser now\n",
      "[2025-05-25 14:37:11] WARNING math_normalization.py:466: equations is deprecated, as it handled by the parser now\n",
      "[2025-05-25 14:37:11] WARNING math_normalization.py:466: equations is deprecated, as it handled by the parser now\n",
      "[2025-05-25 14:37:11] WARNING math_normalization.py:466: equations is deprecated, as it handled by the parser now\n",
      "[2025-05-25 14:37:11] WARNING math_normalization.py:466: equations is deprecated, as it handled by the parser now\n",
      "[2025-05-25 14:37:11] WARNING math_normalization.py:466: equations is deprecated, as it handled by the parser now\n",
      "[2025-05-25 14:37:11] WARNING math_normalization.py:466: equations is deprecated, as it handled by the parser now\n",
      "[2025-05-25 14:37:11] WARNING math_normalization.py:466: equations is deprecated, as it handled by the parser now\n",
      "[2025-05-25 14:37:11] WARNING math_normalization.py:466: equations is deprecated, as it handled by the parser now\n",
      "[2025-05-25 14:37:11] WARNING math_normalization.py:466: equations is deprecated, as it handled by the parser now\n",
      "[2025-05-25 14:37:11] WARNING math_normalization.py:466: equations is deprecated, as it handled by the parser now\n",
      "[2025-05-25 14:37:11] WARNING math_normalization.py:466: equations is deprecated, as it handled by the parser now\n",
      "[2025-05-25 14:37:11] WARNING math_normalization.py:466: equations is deprecated, as it handled by the parser now\n",
      "[2025-05-25 14:37:11] WARNING math_normalization.py:466: equations is deprecated, as it handled by the parser now\n"
     ]
    }
   ],
   "source": [
    "trajectories = []\n",
    "references = []\n",
    "for output, answer in zip(outputs, answers[:1]):\n",
    "    prompt = output.prompt\n",
    "    for r in output.outputs:\n",
    "        trajectories.append(r.text)\n",
    "        references.append(answer)\n",
    "scores = score(trajectories, references)"
   ]
  },
  {
   "cell_type": "markdown",
   "metadata": {},
   "source": [
    "compute plausibility of the answer at each position ($\\mathcal{\\hat{L}}$) of sampled correct reasoning trajectory"
   ]
  },
  {
   "cell_type": "code",
   "execution_count": 10,
   "metadata": {
    "metadata": {}
   },
   "outputs": [
    {
     "name": "stderr",
     "output_type": "stream",
     "text": [
      "Processed prompts: 100%|██████████| 3588/3588 [19:57<00:00,  3.00it/s, est. speed input: 5877.40 toks/s, output: 3.00 toks/s]\n"
     ]
    }
   ],
   "source": [
    "messages = [\n",
    "    {\"role\": \"user\", \"content\": prompt_template.format(question=questions[0])}\n",
    "]\n",
    "input_prefix = tokenizer.apply_chat_template(messages, tokenize=False, add_generation_prompt=True)\n",
    "answer_tokens = tokenizer.encode(\"\\n\\n**Final Answer**\\n\\\\boxed{\" + answers[0], add_special_tokens=False)\n",
    "prompt2logprobs = {\n",
    "    \"question\": questions[0], \n",
    "    \"answer\": answers[0],\n",
    "    'logprobs': []\n",
    "}\n",
    "for trajectory in random.sample([trajectory for trajectory, score in zip(trajectories, scores) if score[\"correct\"]], k=1):\n",
    "    input_and_response = input_prefix + trajectory\n",
    "    tokens = tokenizer.encode(input_and_response, add_special_tokens=False)\n",
    "    think_token_ids = tokenizer.encode(\"<think>\", add_special_tokens=False)\n",
    "\n",
    "    def find_subsequence(tokens, sub):\n",
    "        for i in range(len(tokens) - len(sub) + 1):\n",
    "            if tokens[i:i+len(sub)] == sub:\n",
    "                return i\n",
    "        return -1\n",
    "    think_pos = find_subsequence(tokens, think_token_ids)\n",
    "    assert think_pos != -1\n",
    "\n",
    "    prefixes = []\n",
    "    for end in range(think_pos + 1, len(tokens) + 1):\n",
    "        prefixes.append(tokens[:end] + answer_tokens)\n",
    "\n",
    "    sampling_params = SamplingParams(\n",
    "        temperature=0, prompt_logprobs=1, max_tokens=1\n",
    "    )\n",
    "    outputs = model.generate([\n",
    "        {\"prompt_token_ids\": prefix} for prefix in prefixes\n",
    "    ], sampling_params, use_tqdm=True)\n",
    "    prompt2logprobs[\"logprobs\"].append([])\n",
    "    for i, (output, prefix) in enumerate(zip(outputs, prefixes)):\n",
    "        def extract_logprobs(logprobs, tokens):\n",
    "            probs = []\n",
    "            for item, tok_id in zip(logprobs, tokens):\n",
    "                probs.append(item[tok_id].logprob) if item is not None else probs.append(None)\n",
    "            return probs\n",
    "        prompt2logprobs[\"logprobs\"][-1].append({\n",
    "            \"prompt_ids\": prefix,\n",
    "            \"logprobs\": extract_logprobs(output.prompt_logprobs, prefix)\n",
    "        })"
   ]
  },
  {
   "cell_type": "markdown",
   "metadata": {},
   "source": [
    "extract $\\mathcal{\\hat{L}}$"
   ]
  },
  {
   "cell_type": "code",
   "execution_count": 12,
   "metadata": {
    "metadata": {}
   },
   "outputs": [],
   "source": [
    "L = {\n",
    "    \"question\": prompt2logprobs[\"question\"],\n",
    "    \"answer\": prompt2logprobs[\"answer\"],\n",
    "    \"logprobs\": []\n",
    "}\n",
    "answer_tokens = tokenizer.encode(prompt2logprobs[\"answer\"], add_special_tokens=False)\n",
    "extended_answer_tokens = tokenizer.encode(\"\\n\\n**Final Answer**\\n\\\\boxed{\" + prompt2logprobs[\"answer\"], add_special_tokens=False)\n",
    "for item in prompt2logprobs[\"logprobs\"][0]:\n",
    "    L[\"logprobs\"].append(-np.mean(item[\"logprobs\"][-len(answer_tokens):]))\n",
    "L[\"logprobs\"] = L[\"logprobs\"][:-len(extended_answer_tokens)]"
   ]
  },
  {
   "cell_type": "markdown",
   "metadata": {},
   "source": [
    "draw the curve of $\\mathcal{\\hat{L}}$"
   ]
  },
  {
   "cell_type": "code",
   "execution_count": 31,
   "metadata": {
    "metadata": {}
   },
   "outputs": [
    {
     "name": "stderr",
     "output_type": "stream",
     "text": [
      "[2025-05-25 15:12:49] INFO _mathtext.py:648: Substituting symbol L from STIXNonUnicode\n"
     ]
    },
    {
     "name": "stderr",
     "output_type": "stream",
     "text": [
      "[2025-05-25 15:12:49] INFO _mathtext.py:648: Substituting symbol L from STIXNonUnicode\n"
     ]
    },
    {
     "data": {
      "image/png": "[encoded data removed]",
      "text/plain": [
       "<Figure size 800x400 with 1 Axes>"
      ]
     },
     "metadata": {},
     "output_type": "display_data"
    }
   ],
   "source": [
    "plt.rcParams['font.family'] = 'Maple Mono'\n",
    "plt.rcParams['font.weight'] = 'normal'\n",
    "\n",
    "sns.set_theme(style=\"whitegrid\")\n",
    "sns.set_context(\"talk\")\n",
    "\n",
    "fig = plt.figure(figsize=(8, 4))\n",
    "\n",
    "linestyles = ['-', '--', '-.', ':']\n",
    "\n",
    "legend_handles = []\n",
    "legend_labels = []\n",
    "\n",
    "logprobs = L['logprobs']\n",
    "    \n",
    "colors = sns.color_palette(\"muted\")\n",
    "    \n",
    "raw_data = np.array(logprobs)\n",
    "raw_data = raw_data[raw_data != 0.0]\n",
    "\n",
    "indices = np.arange(0, len(raw_data))\n",
    "normalized_indices = indices / (len(indices) - 1) if len(indices) > 1 else indices\n",
    "\n",
    "color_idx = random.randint(0, 4)\n",
    "colors = sns.color_palette(\"muted\")\n",
    "\n",
    "plt.plot(normalized_indices, raw_data, \n",
    "        color=colors[color_idx], \n",
    "        alpha=0.2,\n",
    "        linewidth=0.8)\n",
    "\n",
    "alpha = 0.01  \n",
    "smooth_data = np.zeros_like(raw_data)\n",
    "smooth_data[0] = raw_data[0]\n",
    "\n",
    "for t in range(1, len(raw_data)):\n",
    "    smooth_data[t] = alpha * raw_data[t] + (1 - alpha) * smooth_data[t-1]\n",
    "    \n",
    "smooth_line = plt.plot(normalized_indices, smooth_data, \n",
    "        color=colors[color_idx], \n",
    "        linewidth=2)\n",
    "    \n",
    "plt.xlabel('') \n",
    "plt.title(\"Pseudo Gradient Descent\", fontdict={\"size\": 14, \"weight\": \"bold\"})\n",
    "plt.grid(True, linestyle='--', alpha=0.7)\n",
    "    \n",
    "plt.xlim(0, 1)\n",
    "    \n",
    "plt.ylabel('$\\mathcal{\\widehat{L}}$', fontdict={\"size\": 14, \"weight\": \"bold\"})\n",
    "plt.tick_params(axis='y', which='both', left=False, labelleft=False)\n",
    "\n",
    "\n",
    "plt.tight_layout(rect=[0, 0.05, 1, 0.95])\n",
    "plt.show()\n"
   ]
  }
 ],
 "metadata": {
  "kernelspec": {
   "display_name": "reason-stability",
   "language": "python",
   "name": "python3"
  },
  "language_info": {
   "codemirror_mode": {
    "name": "ipython",
    "version": 3
   },
   "file_extension": ".py",
   "mimetype": "text/x-python",
   "name": "python",
   "nbconvert_exporter": "python",
   "pygments_lexer": "ipython3",
   "version": "3.11.11"
  }
 },
 "nbformat": 4,
 "nbformat_minor": 2
}
